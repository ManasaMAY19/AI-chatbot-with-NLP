{
  "metadata": {
    "kernelspec": {
      "language": "python",
      "display_name": "Python 3",
      "name": "python3"
    },
    "language_info": {
      "pygments_lexer": "ipython3",
      "nbconvert_exporter": "python",
      "version": "3.6.4",
      "file_extension": ".py",
      "codemirror_mode": {
        "name": "ipython",
        "version": 3
      },
      "name": "python",
      "mimetype": "text/x-python"
    },
    "kaggle": {
      "accelerator": "none",
      "dataSources": [
        {
          "sourceId": 2777448,
          "sourceType": "datasetVersion",
          "datasetId": 1695352
        }
      ],
      "dockerImageVersionId": 30445,
      "isInternetEnabled": false,
      "language": "python",
      "sourceType": "notebook",
      "isGpuEnabled": false
    },
    "colab": {
      "name": "Sales Analysis",
      "provenance": [],
      "include_colab_link": true
    }
  },
  "nbformat_minor": 0,
  "nbformat": 4,
  "cells": [
    {
      "cell_type": "markdown",
      "metadata": {
        "id": "view-in-github",
        "colab_type": "text"
      },
      "source": [
        "<a href=\"https://colab.research.google.com/github/ManasaMAY19/AI-chatbot-with-NLP/blob/main/Sales_Analysis.ipynb\" target=\"_parent\"><img src=\"https://colab.research.google.com/assets/colab-badge.svg\" alt=\"Open In Colab\"/></a>"
      ]
    },
    {
      "cell_type": "markdown",
      "source": [
        "# SALES ANALYSIS"
      ],
      "metadata": {
        "papermill": {
          "duration": 0.017814,
          "end_time": "2023-04-10T08:24:35.814523",
          "exception": false,
          "start_time": "2023-04-10T08:24:35.796709",
          "status": "completed"
        },
        "tags": [],
        "id": "ZXZe31_Mf6fG"
      }
    },
    {
      "cell_type": "markdown",
      "source": [
        "Hi! This is my Sales Analysis notebook for [Sales Product Data](https://www.kaggle.com/datasets/knightbearr/sales-product-data) from [Knightbearr](https://www.kaggle.com/knightbearr). The purpose is to provide analysis based on dataset provided by going through all the necessary step and methods in this notebook alongside its explanation. Since there is already task provided in the dataset description making it easier to explore different means to answer multiple questions and provide analysis. Also note that I'm still learning and there may be mistake and few things i might be overlooked. If that happen feel free comment and point them out.\n",
        "\n",
        "Thanks!"
      ],
      "metadata": {
        "id": "Es8OTh3If6fI"
      }
    },
    {
      "cell_type": "markdown",
      "source": [
        "# Table of Contents\n",
        "[SALES ANALYSIS](#SALES-ANALYSIS)\n",
        "- [LIBRARY IMPORT](#LIBRARY-IMPORT)\n",
        "- [DATA READING](#DATA-READING)\n",
        "- [DATA CLEANING](#DATA-CLEANING)\n",
        "- [DATA MANIPULATION](#DATA-MANIPULATION)\n",
        "- [QUESTIONS](#QUESTIONS)\n",
        "    - [Total Sales](#Total-Sales)\n",
        "        - [Annual Sales](#Annual-Sales)\n",
        "        - [Monthly Sales](#Monthly-Sales)\n",
        "    - [Sales by State & City](#Sales-by-State-and-City)\n",
        "        - [Sales by State](#Sales-by-State)\n",
        "        - [Sales by City](#Sales-by-City)\n",
        "    - [Order Trend](#Order-Trend)\n",
        "        - [Monthly Order Trend](#Monthly-Order-Trend)\n",
        "        - [Daily Order Trend](#Daily-Order-Trend)\n",
        "        - [Hourly Order Trend](#Hourly-Order-Trend)\n",
        "    - [Product Performance](#Product-Performance)\n",
        "        - [Product Popularity](#Product-Popularity)\n",
        "        - [Price List Comparision](#Price-List-Comparision)\n",
        "        - [Product Sold by Order](#Product-Sold-by-Order)\n",
        "    - [Probability](#Probability)\n",
        "        - [Product Orders of Total Sales](#Product-Orders-of-Total-Sales)\n",
        "    - [Product Associate Rules](#Product-Associate-Rules)\n",
        "- [SUMMARY](#TO-SUMMARIZE)\n",
        "- [REFERENCES](#REFERENCES)\n",
        "- [VERSION](#VERSION-12)"
      ],
      "metadata": {
        "papermill": {
          "duration": 0.017256,
          "end_time": "2023-04-10T08:24:35.849106",
          "exception": false,
          "start_time": "2023-04-10T08:24:35.83185",
          "status": "completed"
        },
        "tags": [],
        "id": "DjlgRVXaf6fL"
      }
    },
    {
      "cell_type": "markdown",
      "source": [
        "# LIBRARY IMPORT"
      ],
      "metadata": {
        "papermill": {
          "duration": 0.016337,
          "end_time": "2023-04-10T08:24:35.883471",
          "exception": false,
          "start_time": "2023-04-10T08:24:35.867134",
          "status": "completed"
        },
        "tags": [],
        "id": "5G5iUiYff6fM"
      }
    },
    {
      "cell_type": "markdown",
      "source": [
        "> Import all required library for files import/export, plotting, and association rules."
      ],
      "metadata": {
        "papermill": {
          "duration": 0.016083,
          "end_time": "2023-04-10T08:24:35.917134",
          "exception": false,
          "start_time": "2023-04-10T08:24:35.901051",
          "status": "completed"
        },
        "tags": [],
        "id": "vZriyv6Of6fN"
      }
    },
    {
      "cell_type": "code",
      "source": [
        "#import required library\n",
        "import os\n",
        "import squarify\n",
        "import pandas as pd\n",
        "import matplotlib.pyplot as plt\n",
        "import seaborn as sns\n",
        "from IPython.display import display_html\n",
        "\n",
        "#required library for one-hot matrix and association rules\n",
        "from mlxtend.preprocessing import TransactionEncoder\n",
        "from mlxtend.frequent_patterns import apriori, association_rules\n"
      ],
      "metadata": {
        "papermill": {
          "duration": 1.47414,
          "end_time": "2023-04-10T08:24:37.407982",
          "exception": false,
          "start_time": "2023-04-10T08:24:35.933842",
          "status": "completed"
        },
        "tags": [],
        "execution": {
          "iopub.status.busy": "2023-04-26T05:20:19.607193Z",
          "iopub.execute_input": "2023-04-26T05:20:19.607625Z",
          "iopub.status.idle": "2023-04-26T05:20:19.614444Z",
          "shell.execute_reply.started": "2023-04-26T05:20:19.607588Z",
          "shell.execute_reply": "2023-04-26T05:20:19.612964Z"
        },
        "trusted": true,
        "id": "ZLBtjZGwf6fO"
      },
      "outputs": [],
      "execution_count": null
    },
    {
      "cell_type": "markdown",
      "source": [
        "# DATA READING"
      ],
      "metadata": {
        "papermill": {
          "duration": 0.016285,
          "end_time": "2023-04-10T08:24:37.440932",
          "exception": false,
          "start_time": "2023-04-10T08:24:37.424647",
          "status": "completed"
        },
        "tags": [],
        "id": "unApmFVVf6fQ"
      }
    },
    {
      "cell_type": "markdown",
      "source": [
        "> Combine all related CSV data into a single dataframe(all_sales_df) then rename and lowercase all the column name."
      ],
      "metadata": {
        "papermill": {
          "duration": 0.016101,
          "end_time": "2023-04-10T08:24:37.47349",
          "exception": false,
          "start_time": "2023-04-10T08:24:37.457389",
          "status": "completed"
        },
        "tags": [],
        "id": "D89Jf4NOf6fR"
      }
    },
    {
      "cell_type": "code",
      "source": [
        "#find file path directory\n",
        "for dirname, _, filenames in os.walk('/kaggle/input'):\n",
        "    for filename in filenames:\n",
        "        print(os.path.join(dirname, filename))\n"
      ],
      "metadata": {
        "execution": {
          "iopub.status.busy": "2023-04-26T05:20:19.639814Z",
          "iopub.execute_input": "2023-04-26T05:20:19.640484Z",
          "iopub.status.idle": "2023-04-26T05:20:19.647497Z",
          "shell.execute_reply.started": "2023-04-26T05:20:19.640445Z",
          "shell.execute_reply": "2023-04-26T05:20:19.646394Z"
        },
        "trusted": true,
        "id": "ZLg-U0f4f6fS"
      },
      "outputs": [],
      "execution_count": null
    },
    {
      "cell_type": "code",
      "source": [
        "#data path\n",
        "dir_path = '../input/sales-product-data'\n",
        "\n",
        "#create empty df for all sales\n",
        "all_sales_df = pd.DataFrame()\n",
        "\n",
        "#concat all csv in dir path\n",
        "for filename in os.listdir(dir_path):\n",
        "    df = pd.read_csv(os.path.join(dir_path, filename))\n",
        "    all_sales_df = pd.concat ([all_sales_df, df], ignore_index=True)\n",
        "\n",
        "#rename column name\n",
        "all_sales_df = all_sales_df.rename(mapper = str.strip, axis='columns')\n",
        "all_sales_df = all_sales_df.rename(columns={'Order ID': 'Order_id',\n",
        "                                            'Quantity Ordered': 'Quantity',\n",
        "                                            'Price Each': 'Price',\n",
        "                                            'Order Date': 'Date',\n",
        "                                            'Purchase Address': 'Address'})\n",
        "\n",
        "#lowercase column name\n",
        "column_name = list(all_sales_df.columns)\n",
        "column_name = [x.lower().strip() for x in column_name]\n",
        "all_sales_df.columns = column_name\n",
        "\n",
        "#show dataframe info\n",
        "print(all_sales_df.info())\n"
      ],
      "metadata": {
        "papermill": {
          "duration": 1.001537,
          "end_time": "2023-04-10T08:24:38.547049",
          "exception": false,
          "start_time": "2023-04-10T08:24:37.545512",
          "status": "completed"
        },
        "tags": [],
        "execution": {
          "iopub.status.busy": "2023-04-26T05:20:19.672179Z",
          "iopub.execute_input": "2023-04-26T05:20:19.672873Z",
          "iopub.status.idle": "2023-04-26T05:20:20.28015Z",
          "shell.execute_reply.started": "2023-04-26T05:20:19.672827Z",
          "shell.execute_reply": "2023-04-26T05:20:20.278405Z"
        },
        "trusted": true,
        "id": "UmLcv0ktf6fS"
      },
      "outputs": [],
      "execution_count": null
    },
    {
      "cell_type": "code",
      "source": [
        "#show all_sales_df head\n",
        "all_sales_df.head()\n"
      ],
      "metadata": {
        "papermill": {
          "duration": 0.047374,
          "end_time": "2023-04-10T08:24:38.611158",
          "exception": false,
          "start_time": "2023-04-10T08:24:38.563784",
          "status": "completed"
        },
        "tags": [],
        "execution": {
          "iopub.status.busy": "2023-04-26T05:20:20.282809Z",
          "iopub.execute_input": "2023-04-26T05:20:20.284072Z",
          "iopub.status.idle": "2023-04-26T05:20:20.299961Z",
          "shell.execute_reply.started": "2023-04-26T05:20:20.283982Z",
          "shell.execute_reply": "2023-04-26T05:20:20.298386Z"
        },
        "trusted": true,
        "id": "HIU8i_yrf6fU"
      },
      "outputs": [],
      "execution_count": null
    },
    {
      "cell_type": "markdown",
      "source": [
        "# DATA CLEANING"
      ],
      "metadata": {
        "papermill": {
          "duration": 0.016937,
          "end_time": "2023-04-10T08:24:38.64568",
          "exception": false,
          "start_time": "2023-04-10T08:24:38.628743",
          "status": "completed"
        },
        "tags": [],
        "id": "rFomh657f6fU"
      }
    },
    {
      "cell_type": "markdown",
      "source": [
        "> First check for rows contain null and duplicates.\n",
        "Then check for non-numeric values in order_id, quantity, and price since the 3 column cannot be non-numeric."
      ],
      "metadata": {
        "papermill": {
          "duration": 0.01642,
          "end_time": "2023-04-10T08:24:38.678816",
          "exception": false,
          "start_time": "2023-04-10T08:24:38.662396",
          "status": "completed"
        },
        "tags": [],
        "id": "qHPQy-Syf6fU"
      }
    },
    {
      "cell_type": "code",
      "source": [
        "#check for all rows contain null value\n",
        "print('rows contain null:')\n",
        "print(all_sales_df.isnull().sum())\n",
        "\n",
        "#check duplicated rows\n",
        "print('rows contain duplicates:', all_sales_df.duplicated().sum())\n",
        "\n",
        "#check for non-numeric in order_id, quantity, and price\n",
        "print('non-numeric in order_id:', all_sales_df['order_id'].loc[pd.to_numeric(all_sales_df['order_id'], errors='coerce').isnull()].unique())\n",
        "print('non-numeric in quantity:', all_sales_df['quantity'].loc[pd.to_numeric(all_sales_df['quantity'], errors='coerce').isnull()].unique())\n",
        "print('non-numeric in price:', all_sales_df['price'].loc[pd.to_numeric(all_sales_df['price'], errors='coerce').isnull()].unique())\n"
      ],
      "metadata": {
        "papermill": {
          "duration": 0.603376,
          "end_time": "2023-04-10T08:24:39.299024",
          "exception": false,
          "start_time": "2023-04-10T08:24:38.695648",
          "status": "completed"
        },
        "tags": [],
        "execution": {
          "iopub.status.busy": "2023-04-26T05:20:20.301962Z",
          "iopub.execute_input": "2023-04-26T05:20:20.302629Z",
          "iopub.status.idle": "2023-04-26T05:20:20.881101Z",
          "shell.execute_reply.started": "2023-04-26T05:20:20.302579Z",
          "shell.execute_reply": "2023-04-26T05:20:20.879586Z"
        },
        "trusted": true,
        "id": "sJChi4ENf6fV"
      },
      "outputs": [],
      "execution_count": null
    },
    {
      "cell_type": "markdown",
      "source": [
        "> There is a few consideration about dropping duplicated rows.\n",
        "Check duplicated rows and their duplicates."
      ],
      "metadata": {
        "id": "_Zyq42Npf6fW"
      }
    },
    {
      "cell_type": "code",
      "source": [
        "#check order id in duplicated rows that are not null and is numeric\n",
        "all_sales_df[all_sales_df.duplicated(keep=False) & all_sales_df['order_id'].notnull() & all_sales_df['order_id'].str.isnumeric()]['order_id'].head()\n"
      ],
      "metadata": {
        "execution": {
          "iopub.status.busy": "2023-04-26T05:20:20.883569Z",
          "iopub.execute_input": "2023-04-26T05:20:20.883926Z",
          "iopub.status.idle": "2023-04-26T05:20:21.216984Z",
          "shell.execute_reply.started": "2023-04-26T05:20:20.88389Z",
          "shell.execute_reply": "2023-04-26T05:20:21.215544Z"
        },
        "trusted": true,
        "id": "yjTrq8Fxf6fW"
      },
      "outputs": [],
      "execution_count": null
    },
    {
      "cell_type": "code",
      "source": [
        "#check rows contain order id of 176585, 177795, 178158\n",
        "all_sales_df[all_sales_df['order_id'].isin(['176585', '177795', '178158'])]\n"
      ],
      "metadata": {
        "execution": {
          "iopub.status.busy": "2023-04-26T05:20:21.21836Z",
          "iopub.execute_input": "2023-04-26T05:20:21.218695Z",
          "iopub.status.idle": "2023-04-26T05:20:21.247346Z",
          "shell.execute_reply.started": "2023-04-26T05:20:21.218663Z",
          "shell.execute_reply": "2023-04-26T05:20:21.246067Z"
        },
        "trusted": true,
        "id": "VPBkhJrsf6fW"
      },
      "outputs": [],
      "execution_count": null
    },
    {
      "cell_type": "markdown",
      "source": [
        ">Now since order id 176585, 177795, and 178158 despite having quantity column it still have more than 1 of same rows each.\n",
        "Which doesn't make sense when the product is the same it should be added into 'quantity' instead of adding another duplicate row. Another thing to consider is that we can join the rows from duplicates into rows that are duplicated and add the value into quantity.\n",
        "But since it is still unclear, the next cells will continue to remove the duplicate rows.\n",
        "\n",
        "\n",
        "> If there is null and duplicated rows then it need to be dropped/removed.\n",
        "For non-numeric in mentioned columns, apply to_numeric to remove the rows dataframe.\n",
        "Then check the result by applying the previous methods for a new defined dataframe(clean_sales_df)."
      ],
      "metadata": {
        "papermill": {
          "duration": 0.017004,
          "end_time": "2023-04-10T08:24:39.333939",
          "exception": false,
          "start_time": "2023-04-10T08:24:39.316935",
          "status": "completed"
        },
        "tags": [],
        "id": "AaSzTaVSf6fX"
      }
    },
    {
      "cell_type": "code",
      "source": [
        "#drop null rows\n",
        "clean_sales_df = all_sales_df.dropna(how='all')\n",
        "\n",
        "#drop all duplicates rows\n",
        "clean_sales_df = clean_sales_df[~ clean_sales_df.duplicated()]\n",
        "\n",
        "#drop non-numeric values in order_id, quantity, and price\n",
        "clean_sales_df = clean_sales_df[pd.to_numeric(clean_sales_df['order_id'], errors='coerce').notnull()]\n",
        "clean_sales_df = clean_sales_df[pd.to_numeric(clean_sales_df['quantity'], errors='coerce').notnull()]\n",
        "clean_sales_df = clean_sales_df[pd.to_numeric(clean_sales_df['price'], errors='coerce').notnull()]\n",
        "\n",
        "#print data cleaning result\n",
        "#null result\n",
        "print('rows contain null:')\n",
        "print(clean_sales_df.isnull().sum())\n",
        "\n",
        "#check duplicated rows\n",
        "print('rows contain duplicates:', clean_sales_df.duplicated().sum())\n",
        "\n",
        "#unique value result\n",
        "print('non-numeric in order_id:', clean_sales_df['order_id'].loc[pd.to_numeric(clean_sales_df['order_id'], errors='coerce').isnull()].unique())\n",
        "print('non-numeric in quantity:', clean_sales_df['quantity'].loc[pd.to_numeric(clean_sales_df['quantity'], errors='coerce').isnull()].unique())\n",
        "print('non-numeric in price:', clean_sales_df['price'].loc[pd.to_numeric(clean_sales_df['price'], errors='coerce').isnull()].unique())\n"
      ],
      "metadata": {
        "papermill": {
          "duration": 1.142722,
          "end_time": "2023-04-10T08:24:40.493958",
          "exception": false,
          "start_time": "2023-04-10T08:24:39.351236",
          "status": "completed"
        },
        "tags": [],
        "execution": {
          "iopub.status.busy": "2023-04-26T05:20:21.248812Z",
          "iopub.execute_input": "2023-04-26T05:20:21.249314Z",
          "iopub.status.idle": "2023-04-26T05:20:22.359751Z",
          "shell.execute_reply.started": "2023-04-26T05:20:21.249244Z",
          "shell.execute_reply": "2023-04-26T05:20:22.358292Z"
        },
        "trusted": true,
        "id": "M8-cf9hGf6fX"
      },
      "outputs": [],
      "execution_count": null
    },
    {
      "cell_type": "markdown",
      "source": [
        "# DATA MANIPULATION"
      ],
      "metadata": {
        "papermill": {
          "duration": 0.017184,
          "end_time": "2023-04-10T08:24:40.528662",
          "exception": false,
          "start_time": "2023-04-10T08:24:40.511478",
          "status": "completed"
        },
        "tags": [],
        "id": "CPrWJkLcf6fY"
      }
    },
    {
      "cell_type": "markdown",
      "source": [
        "> Before analysis it's important to define data type for each column that will be called later on.\n",
        "Split city and state from 'address' into separate 'city' and 'state' column which will be required later for visualizations.\n",
        "Add 'total_sales' column from 'quantity'*'price'."
      ],
      "metadata": {
        "papermill": {
          "duration": 0.017181,
          "end_time": "2023-04-10T08:24:40.564148",
          "exception": false,
          "start_time": "2023-04-10T08:24:40.546967",
          "status": "completed"
        },
        "tags": [],
        "id": "EhNuVcFbf6fY"
      }
    },
    {
      "cell_type": "code",
      "source": [
        "#change data type for column quantity, price, date, and address\n",
        "clean_sales_df['quantity'] = clean_sales_df['quantity'].astype(int)\n",
        "clean_sales_df['price'] = clean_sales_df['price'].astype(float)\n",
        "clean_sales_df['date'] = pd.to_datetime(clean_sales_df['date'], format='%m/%d/%y %H:%M')\n",
        "clean_sales_df['address'] = clean_sales_df['address'].astype(str)\n",
        "\n",
        "#add city and state column\n",
        "clean_sales_df['city'] = clean_sales_df['address'].apply(lambda x: x.split(',')[1].strip())\n",
        "clean_sales_df['state'] = clean_sales_df['address'].apply(lambda x: x.split(',')[2].split(' ')[1].strip())\n",
        "\n",
        "#add total_sales column\n",
        "clean_sales_df['total_sales'] = clean_sales_df['quantity'] * clean_sales_df['price']\n"
      ],
      "metadata": {
        "papermill": {
          "duration": 0.884879,
          "end_time": "2023-04-10T08:24:41.466291",
          "exception": false,
          "start_time": "2023-04-10T08:24:40.581412",
          "status": "completed"
        },
        "tags": [],
        "execution": {
          "iopub.status.busy": "2023-04-26T05:20:22.362204Z",
          "iopub.execute_input": "2023-04-26T05:20:22.363198Z",
          "iopub.status.idle": "2023-04-26T05:20:23.233139Z",
          "shell.execute_reply.started": "2023-04-26T05:20:22.363132Z",
          "shell.execute_reply": "2023-04-26T05:20:23.231877Z"
        },
        "trusted": true,
        "id": "H0BBauCJf6fY"
      },
      "outputs": [],
      "execution_count": null
    },
    {
      "cell_type": "markdown",
      "source": [
        "> From here since data outside year 2019 is less significant.\n",
        "The following try to separate clean_sales_df(all data) and clean_sales_2019_df(2019 data).\n",
        "But we can check how many rows contain data outside 2019 by applying following method."
      ],
      "metadata": {
        "papermill": {
          "duration": 0.017313,
          "end_time": "2023-04-10T08:24:41.502097",
          "exception": false,
          "start_time": "2023-04-10T08:24:41.484784",
          "status": "completed"
        },
        "tags": [],
        "id": "isKRzfCNf6fZ"
      }
    },
    {
      "cell_type": "code",
      "source": [
        "#find data outside 2019\n",
        "print('number of rows outside 2019:', len(clean_sales_df[clean_sales_df['date'].dt.year != 2019]))\n"
      ],
      "metadata": {
        "papermill": {
          "duration": 0.099369,
          "end_time": "2023-04-10T08:24:41.61919",
          "exception": false,
          "start_time": "2023-04-10T08:24:41.519821",
          "status": "completed"
        },
        "tags": [],
        "execution": {
          "iopub.status.busy": "2023-04-26T05:20:23.234745Z",
          "iopub.execute_input": "2023-04-26T05:20:23.235288Z",
          "iopub.status.idle": "2023-04-26T05:20:23.312337Z",
          "shell.execute_reply.started": "2023-04-26T05:20:23.235236Z",
          "shell.execute_reply": "2023-04-26T05:20:23.311277Z"
        },
        "trusted": true,
        "id": "fsXK44AVf6fZ"
      },
      "outputs": [],
      "execution_count": null
    },
    {
      "cell_type": "code",
      "source": [
        "#store 2019 data in separate dataframe\n",
        "clean_sales_2019_df = pd.DataFrame(clean_sales_df[clean_sales_df['date'].dt.year == 2019]) #this will only include rows with year 2019\n",
        "\n",
        "#print data manipulation result\n",
        "#2019 data\n",
        "print('clean_sales_2019 data result:')\n",
        "print(clean_sales_2019_df.info())\n",
        "\n",
        "#data outside 2019\n",
        "print('number of rows outside 2019 in clean_sales_2019_df:', len(clean_sales_2019_df[clean_sales_2019_df['date'].dt.year != 2019]))\n"
      ],
      "metadata": {
        "papermill": {
          "duration": 0.137751,
          "end_time": "2023-04-10T08:24:41.774324",
          "exception": false,
          "start_time": "2023-04-10T08:24:41.636573",
          "status": "completed"
        },
        "tags": [],
        "execution": {
          "iopub.status.busy": "2023-04-26T05:20:23.313929Z",
          "iopub.execute_input": "2023-04-26T05:20:23.314315Z",
          "iopub.status.idle": "2023-04-26T05:20:23.436084Z",
          "shell.execute_reply.started": "2023-04-26T05:20:23.314278Z",
          "shell.execute_reply": "2023-04-26T05:20:23.435124Z"
        },
        "trusted": true,
        "id": "9zexm_4ff6fZ"
      },
      "outputs": [],
      "execution_count": null
    },
    {
      "cell_type": "markdown",
      "source": [
        "> Reset the index for both dataframe and print data head to show dataframe result."
      ],
      "metadata": {
        "papermill": {
          "duration": 0.017402,
          "end_time": "2023-04-10T08:24:41.80959",
          "exception": false,
          "start_time": "2023-04-10T08:24:41.792188",
          "status": "completed"
        },
        "tags": [],
        "id": "Ibr0supjf6fa"
      }
    },
    {
      "cell_type": "code",
      "source": [
        "#reset data index for both dataframe\n",
        "clean_sales_df = clean_sales_df.reset_index(drop=True)\n",
        "clean_sales_2019_df = clean_sales_2019_df.reset_index(drop=True)\n",
        "\n",
        "#check data head before analysis/visualization\n",
        "clean_sales_df.head()\n"
      ],
      "metadata": {
        "papermill": {
          "duration": 0.08122,
          "end_time": "2023-04-10T08:24:41.908501",
          "exception": false,
          "start_time": "2023-04-10T08:24:41.827281",
          "status": "completed"
        },
        "tags": [],
        "execution": {
          "iopub.status.busy": "2023-04-26T05:20:23.440419Z",
          "iopub.execute_input": "2023-04-26T05:20:23.44081Z",
          "iopub.status.idle": "2023-04-26T05:20:23.488711Z",
          "shell.execute_reply.started": "2023-04-26T05:20:23.440771Z",
          "shell.execute_reply": "2023-04-26T05:20:23.487305Z"
        },
        "trusted": true,
        "id": "cGtOyGKQf6fa"
      },
      "outputs": [],
      "execution_count": null
    },
    {
      "cell_type": "markdown",
      "source": [
        "# QUESTIONS"
      ],
      "metadata": {
        "papermill": {
          "duration": 0.017892,
          "end_time": "2023-04-10T08:24:41.944741",
          "exception": false,
          "start_time": "2023-04-10T08:24:41.926849",
          "status": "completed"
        },
        "tags": [],
        "id": "QYppJssSf6fa"
      }
    },
    {
      "cell_type": "markdown",
      "source": [
        "## Total Sales"
      ],
      "metadata": {
        "id": "VWoFSxRdf6fb"
      }
    },
    {
      "cell_type": "markdown",
      "source": [
        "Before advancing through [Annual Sales](#Annual-Sales), [Monthly Sales](#Monthly-Sales) and [Sales by State & City](#Sales-by-State-and-City).\n",
        "The following section/cells is made to define function that will be used specifically for total sales related plot/sections to make the rest of the codes much less repetitive."
      ],
      "metadata": {
        "id": "tMcrDpX8f6fb"
      }
    },
    {
      "cell_type": "markdown",
      "source": [
        "> Define function for plotting Annual Sales and Monthly Sales referring to 'total_sales' so it's easier and less repetitive.\n",
        "In this case the method will refer to pivot type so x or y value may refer to index instead of column name.\n",
        "If the source is dataframe then refer to column name instead of index."
      ],
      "metadata": {
        "id": "hOc3Q1-Xf6fb"
      }
    },
    {
      "cell_type": "code",
      "source": [
        "#define function for total sales visual and add parameters\n",
        "def plot_total_sales(pivot, width, height, plotting, fig_title, avg_series=None):\n",
        "    with plt.style.context('ggplot'):\n",
        "        #format figure\n",
        "        plt.figure(figsize=(width, height))\n",
        "        ax = getattr(sns, plotting)(x=pivot.index, y='total_sales', data=pivot)\n",
        "        ax.ticklabel_format(style='plain', axis='y')\n",
        "        ax.set(title=fig_title, xlabel='Date', ylabel='Sales')\n",
        "\n",
        "        #if statement to add axh line for avg series\n",
        "        if avg_series is not None:\n",
        "            ax.axhline(y=avg_series, color='blue', linestyle=':', linewidth=1)\n",
        "            ax.text(pivot.index[-12], avg_series+5, f'Avg: ${avg_series:,.2f}', color='blue', fontsize=8, ha='center', va='bottom')\n",
        "\n",
        "        #add annotation\n",
        "        for x, y in enumerate(pivot['total_sales']):\n",
        "            label = f'${y:,.2f}'\n",
        "            ax.annotate(label, (x, y), textcoords='offset points', xytext=(0, 4), ha='center')\n",
        "        plt.show()\n"
      ],
      "metadata": {
        "execution": {
          "iopub.status.busy": "2023-04-26T05:20:23.490009Z",
          "iopub.execute_input": "2023-04-26T05:20:23.4904Z",
          "iopub.status.idle": "2023-04-26T05:20:23.501231Z",
          "shell.execute_reply.started": "2023-04-26T05:20:23.490365Z",
          "shell.execute_reply": "2023-04-26T05:20:23.499863Z"
        },
        "trusted": true,
        "id": "Qe242j8_f6fc"
      },
      "outputs": [],
      "execution_count": null
    },
    {
      "cell_type": "markdown",
      "source": [
        "> Defining function(sort_style_total_sales) for sort by value and adding color gradient to pivot table might not be necessary if it's used once.\n",
        "But the following function will be used later in Monthly Sales and Sales by State/City."
      ],
      "metadata": {
        "id": "rOBZCDfff6fc"
      }
    },
    {
      "cell_type": "code",
      "source": [
        "#define function for pivot sort by value in total sales and return pivot with color gradient\n",
        "def sort_style_total_sales(pivot, text):\n",
        "    #sort pivot by value in total sales\n",
        "    pivot = pivot.sort_values(by='total_sales', ascending=False)\n",
        "\n",
        "    #format pivot with color gradient\n",
        "    styled_pivot = pivot.style.background_gradient(cmap='RdYlGn', subset=['total_sales']).format({'total_sales': '${:,.2f}'})\n",
        "\n",
        "    #pass table to html\n",
        "    html_pivot = styled_pivot.to_html()\n",
        "\n",
        "    #display tabel\n",
        "    display_html(f'CONCLUSION:\\n'\n",
        "                 f'<table><tr><th>{text}</th></tr><tr><td>{html_pivot}</td></tr></table>', raw=True)\n"
      ],
      "metadata": {
        "execution": {
          "iopub.status.busy": "2023-04-26T05:20:23.502899Z",
          "iopub.execute_input": "2023-04-26T05:20:23.503277Z",
          "iopub.status.idle": "2023-04-26T05:20:23.515111Z",
          "shell.execute_reply.started": "2023-04-26T05:20:23.50324Z",
          "shell.execute_reply": "2023-04-26T05:20:23.513694Z"
        },
        "trusted": true,
        "id": "0lb-dzUnf6fc"
      },
      "outputs": [],
      "execution_count": null
    },
    {
      "cell_type": "markdown",
      "source": [
        "> Similar case also goes for function(max_min_total_sales) to find max and min values in total_sales."
      ],
      "metadata": {
        "id": "vHz1tk-Of6fd"
      }
    },
    {
      "cell_type": "code",
      "source": [
        "#define function to find highest and lowest total sales for conclusion\n",
        "def max_min_total_sales(pivot):\n",
        "    #find highest value\n",
        "    highest_date = pivot['total_sales'].idxmax()\n",
        "    highest_value = pivot['total_sales'].max()\n",
        "\n",
        "    #find lowest value\n",
        "    lowest_date = pivot['total_sales'].idxmin()\n",
        "    lowest_value = pivot['total_sales'].min()\n",
        "\n",
        "    #print result as conclusion\n",
        "    print(f\"CONCLUSION:\\n\"\n",
        "          f\"Total sales generated by Company: ${pivot['total_sales'].sum():,.2f}\\n\"\n",
        "          f\"\\n\"\n",
        "          f\"With the highest sales is in {highest_date}, generating: ${highest_value:,.2f}\\n\"\n",
        "          f\"With the lowest sales is in {lowest_date}, generating: ${lowest_value:,.2f}\")\n"
      ],
      "metadata": {
        "execution": {
          "iopub.status.busy": "2023-04-26T05:20:23.517337Z",
          "iopub.execute_input": "2023-04-26T05:20:23.51798Z",
          "iopub.status.idle": "2023-04-26T05:20:23.533405Z",
          "shell.execute_reply.started": "2023-04-26T05:20:23.517926Z",
          "shell.execute_reply": "2023-04-26T05:20:23.531891Z"
        },
        "trusted": true,
        "id": "sOUAFebrf6fd"
      },
      "outputs": [],
      "execution_count": null
    },
    {
      "cell_type": "markdown",
      "source": [
        "### Annual Sales"
      ],
      "metadata": {
        "papermill": {
          "duration": 0.01741,
          "end_time": "2023-04-10T08:24:41.981557",
          "exception": false,
          "start_time": "2023-04-10T08:24:41.964147",
          "status": "completed"
        },
        "tags": [],
        "id": "vBR96vayf6fd"
      }
    },
    {
      "cell_type": "markdown",
      "source": [
        "Task 1:\n",
        "\n",
        "Q: What was the best Year for sales? How much was earned that Year?\n",
        "\n",
        "A: Create Annual Sales summary and find max/min values in Annual Sales\n",
        "\n",
        "In this section clean_sales_df will be referred to find annual sales as annual_sales_pivot.\n",
        "Plot the annual_sales_pivot and find max/min values then show the result by calling the previously defined function."
      ],
      "metadata": {
        "papermill": {
          "duration": 0.01735,
          "end_time": "2023-04-10T08:24:42.016528",
          "exception": false,
          "start_time": "2023-04-10T08:24:41.999178",
          "status": "completed"
        },
        "tags": [],
        "id": "khLIadCrf6fd"
      }
    },
    {
      "cell_type": "code",
      "source": [
        "#find annual sales\n",
        "annual_sales_pivot = pd.pivot_table(clean_sales_df, index=clean_sales_df['date'].dt.year, values='total_sales', aggfunc='sum')\n",
        "\n",
        "#plot annual sales\n",
        "plot_total_sales(annual_sales_pivot, 4, 4, 'barplot','Annual Sales')\n"
      ],
      "metadata": {
        "execution": {
          "iopub.status.busy": "2023-04-26T05:20:23.535318Z",
          "iopub.execute_input": "2023-04-26T05:20:23.536547Z",
          "iopub.status.idle": "2023-04-26T05:20:23.787554Z",
          "shell.execute_reply.started": "2023-04-26T05:20:23.536492Z",
          "shell.execute_reply": "2023-04-26T05:20:23.786265Z"
        },
        "trusted": true,
        "id": "ExEg3Y6df6fe"
      },
      "outputs": [],
      "execution_count": null
    },
    {
      "cell_type": "code",
      "source": [
        "#sort and add color gradient for annual sales\n",
        "sort_style_total_sales(annual_sales_pivot, 'Annual Sales:')\n"
      ],
      "metadata": {
        "execution": {
          "iopub.status.busy": "2023-04-26T05:20:23.789244Z",
          "iopub.execute_input": "2023-04-26T05:20:23.789754Z",
          "iopub.status.idle": "2023-04-26T05:20:23.802752Z",
          "shell.execute_reply.started": "2023-04-26T05:20:23.789712Z",
          "shell.execute_reply": "2023-04-26T05:20:23.801211Z"
        },
        "trusted": true,
        "id": "6njHORs8f6fp"
      },
      "outputs": [],
      "execution_count": null
    },
    {
      "cell_type": "code",
      "source": [
        "#find max min value in annual sales for conclusion\n",
        "max_min_total_sales(annual_sales_pivot)\n"
      ],
      "metadata": {
        "execution": {
          "iopub.status.busy": "2023-04-26T05:20:23.804804Z",
          "iopub.execute_input": "2023-04-26T05:20:23.805673Z",
          "iopub.status.idle": "2023-04-26T05:20:23.814994Z",
          "shell.execute_reply.started": "2023-04-26T05:20:23.80562Z",
          "shell.execute_reply": "2023-04-26T05:20:23.813633Z"
        },
        "trusted": true,
        "id": "DMqXFBhWf6fq"
      },
      "outputs": [],
      "execution_count": null
    },
    {
      "cell_type": "markdown",
      "source": [
        "### Monthly Sales"
      ],
      "metadata": {
        "papermill": {
          "duration": 0.020432,
          "end_time": "2023-04-10T08:24:42.580413",
          "exception": false,
          "start_time": "2023-04-10T08:24:42.559981",
          "status": "completed"
        },
        "tags": [],
        "id": "X5mrL5CLf6fr"
      }
    },
    {
      "cell_type": "markdown",
      "source": [
        "Task 2:\n",
        "\n",
        "Q: What was the best month for sales? How much was earned that month?\n",
        "\n",
        "A: Create Monthly Sales summary and find largest/smallest values in Monthly Sales\n",
        "\n",
        "In this section clean_sales_df will be referred to find monthly sales as monthly_sales_pivot.\n",
        "Plot and find largest/smallest values in monthly_sales_pivot then show the result conclusion.\n",
        "since all the method has been defined previously, the following will just call the function."
      ],
      "metadata": {
        "papermill": {
          "duration": 0.01891,
          "end_time": "2023-04-10T08:24:42.618504",
          "exception": false,
          "start_time": "2023-04-10T08:24:42.599594",
          "status": "completed"
        },
        "tags": [],
        "id": "pOFNT7W5f6fr"
      }
    },
    {
      "cell_type": "code",
      "source": [
        "#find and pivot monthly sales, then change the index format if necessary\n",
        "monthly_sales_pivot = pd.pivot_table(clean_sales_df, index=clean_sales_df['date'].dt.to_period('M'), values='total_sales', aggfunc='sum')\n",
        "monthly_sales_pivot.index = monthly_sales_pivot.index.strftime('%b %Y')\n",
        "\n",
        "#find average of total sales in monthly sales for axh line\n",
        "average_monthly_sales = monthly_sales_pivot['total_sales'].mean()\n",
        "\n",
        "#plot monthly sales and pass the average series\n",
        "plot_total_sales(monthly_sales_pivot, 16, 4, 'lineplot', 'Monthly Sales', average_monthly_sales)\n"
      ],
      "metadata": {
        "execution": {
          "iopub.status.busy": "2023-04-26T05:20:23.816816Z",
          "iopub.execute_input": "2023-04-26T05:20:23.817313Z",
          "iopub.status.idle": "2023-04-26T05:20:24.237869Z",
          "shell.execute_reply.started": "2023-04-26T05:20:23.817276Z",
          "shell.execute_reply": "2023-04-26T05:20:24.236426Z"
        },
        "trusted": true,
        "id": "sSlTDXbnf6fr"
      },
      "outputs": [],
      "execution_count": null
    },
    {
      "cell_type": "code",
      "source": [
        "#sort and add color gradient for monthly sales\n",
        "sort_style_total_sales(monthly_sales_pivot, 'Monthly Sales:')\n"
      ],
      "metadata": {
        "execution": {
          "iopub.status.busy": "2023-04-26T05:20:24.239642Z",
          "iopub.execute_input": "2023-04-26T05:20:24.240433Z",
          "iopub.status.idle": "2023-04-26T05:20:24.256259Z",
          "shell.execute_reply.started": "2023-04-26T05:20:24.240372Z",
          "shell.execute_reply": "2023-04-26T05:20:24.254848Z"
        },
        "trusted": true,
        "id": "lrDtG7Tbf6fr"
      },
      "outputs": [],
      "execution_count": null
    },
    {
      "cell_type": "code",
      "source": [
        "#find max and min value in monthly sales for conclusion\n",
        "max_min_total_sales(monthly_sales_pivot)\n"
      ],
      "metadata": {
        "execution": {
          "iopub.status.busy": "2023-04-26T05:20:24.258118Z",
          "iopub.execute_input": "2023-04-26T05:20:24.258609Z",
          "iopub.status.idle": "2023-04-26T05:20:24.269501Z",
          "shell.execute_reply.started": "2023-04-26T05:20:24.258554Z",
          "shell.execute_reply": "2023-04-26T05:20:24.268209Z"
        },
        "trusted": true,
        "id": "7g4cvyzZf6fs"
      },
      "outputs": [],
      "execution_count": null
    },
    {
      "cell_type": "markdown",
      "source": [
        "## Sales by State and City"
      ],
      "metadata": {
        "papermill": {
          "duration": 0.020346,
          "end_time": "2023-04-10T08:24:43.401577",
          "exception": false,
          "start_time": "2023-04-10T08:24:43.381231",
          "status": "completed"
        },
        "tags": [],
        "id": "fl9c9Glmf6fs"
      }
    },
    {
      "cell_type": "markdown",
      "source": [
        "Task 3:\n",
        "\n",
        "Q: What City had the highest number of sales?\n",
        "\n",
        "A: Create Sales by State/City and find largest/smallest values in Sales by State/City.\n",
        "\n",
        "This section separated by 2 for [Sales by State](###Sales-by-State) and [Sales by City](###Sales-by-City) from clean_sales_df.\n",
        "Purpose is to find both trend on state level and city level.\n",
        "Plot and find largest/smallest values for both of the result."
      ],
      "metadata": {
        "papermill": {
          "duration": 0.020325,
          "end_time": "2023-04-10T08:24:43.44259",
          "exception": false,
          "start_time": "2023-04-10T08:24:43.422265",
          "status": "completed"
        },
        "tags": [],
        "id": "ewwNkAbgf6fs"
      }
    },
    {
      "cell_type": "markdown",
      "source": [
        "> The following function(large_small_total_sales) is used to find 3 largest and smallest which is different from previous function(max_min_total_sales). Another difference is that instead of printing the result as string the following will show pivot as side by side html with color gradient applied if needed."
      ],
      "metadata": {
        "id": "bSXz9CRFf6fs"
      }
    },
    {
      "cell_type": "code",
      "source": [
        "#create function to find 3 largest and 3 smallest value then show the result as html\n",
        "def large_small_total_sales(pivot, label_1, label_2):\n",
        "    #find 3 largest and smallest total sales\n",
        "    largest = pivot.nlargest(3, 'total_sales')\n",
        "    smallest = pivot.nsmallest(3, 'total_sales')\n",
        "\n",
        "    #format table with gradient\n",
        "    largest_styled = largest.style.background_gradient(cmap='RdYlGn', subset=['total_sales']).format({'total_sales': '${:,.2f}'})\n",
        "    smallest_styled = smallest.style.background_gradient(cmap='RdYlGn', subset=['total_sales']).format({'total_sales': '${:,.2f}'})\n",
        "\n",
        "    #pass table to html\n",
        "    largest_html = largest_styled.to_html()\n",
        "    smallest_html = smallest_styled.to_html()\n",
        "\n",
        "    #display tabel\n",
        "    display_html(f'CONCLUSION:\\n'\n",
        "                 f'<table><tr><th>{label_1}</th><th>{label_2}</th></tr><tr><td>{largest_html}</td><td>{smallest_html}</td></tr></table>', raw=True)\n"
      ],
      "metadata": {
        "execution": {
          "iopub.status.busy": "2023-04-26T05:20:24.271264Z",
          "iopub.execute_input": "2023-04-26T05:20:24.271639Z",
          "iopub.status.idle": "2023-04-26T05:20:24.282885Z",
          "shell.execute_reply.started": "2023-04-26T05:20:24.2716Z",
          "shell.execute_reply": "2023-04-26T05:20:24.281533Z"
        },
        "trusted": true,
        "id": "q7HsFk3if6ft"
      },
      "outputs": [],
      "execution_count": null
    },
    {
      "cell_type": "markdown",
      "source": [
        "### Sales by State"
      ],
      "metadata": {
        "papermill": {
          "duration": 0.020532,
          "end_time": "2023-04-10T08:24:43.484299",
          "exception": false,
          "start_time": "2023-04-10T08:24:43.463767",
          "status": "completed"
        },
        "tags": [],
        "id": "i9VU0fCSf6ft"
      }
    },
    {
      "cell_type": "code",
      "source": [
        "#find and pivot sales by state then sort the values from highest to lowest\n",
        "sales_by_state_pivot = pd.pivot_table(clean_sales_df, index='state', values='total_sales', aggfunc=sum)\n",
        "sales_by_state_pivot = sales_by_state_pivot.sort_values(by='total_sales', ascending=False)\n"
      ],
      "metadata": {
        "execution": {
          "iopub.status.busy": "2023-04-26T05:20:24.284749Z",
          "iopub.execute_input": "2023-04-26T05:20:24.285154Z",
          "iopub.status.idle": "2023-04-26T05:20:24.325812Z",
          "shell.execute_reply.started": "2023-04-26T05:20:24.285117Z",
          "shell.execute_reply": "2023-04-26T05:20:24.324305Z"
        },
        "trusted": true,
        "id": "61BaijZ0f6ft"
      },
      "outputs": [],
      "execution_count": null
    },
    {
      "cell_type": "code",
      "source": [
        "#generate state color and store it in dictionary for reuse\n",
        "state_color = sns.color_palette('husl', len(sales_by_state_pivot.index.unique()))\n",
        "state_color_dict = dict(zip(sales_by_state_pivot.index.unique(), state_color))\n",
        "\n",
        "#plot sales by state\n",
        "with plt.style.context('fivethirtyeight'):\n",
        "    #format figure\n",
        "    plt.figure(figsize=(16, 4))\n",
        "    ax = sns.barplot(x=sales_by_state_pivot.index, y='total_sales', data=sales_by_state_pivot, palette=state_color_dict)\n",
        "    ax.set(title='Sales by State', xlabel='State', ylabel='Sales')\n",
        "    ax.ticklabel_format(style='plain', axis='y')\n",
        "\n",
        "    #add data annotation\n",
        "    for x, y in enumerate(sales_by_state_pivot['total_sales']):\n",
        "        label = f'${y:,.2f}'\n",
        "        ax.annotate(label, (x, y), textcoords='offset points', xytext=(0, 2), ha='center', fontsize=10)\n",
        "    plt.show()\n"
      ],
      "metadata": {
        "execution": {
          "iopub.status.busy": "2023-04-26T05:20:24.327429Z",
          "iopub.execute_input": "2023-04-26T05:20:24.327849Z",
          "iopub.status.idle": "2023-04-26T05:20:24.653681Z",
          "shell.execute_reply.started": "2023-04-26T05:20:24.32781Z",
          "shell.execute_reply": "2023-04-26T05:20:24.652538Z"
        },
        "trusted": true,
        "id": "vdFIJVxrf6fu"
      },
      "outputs": [],
      "execution_count": null
    },
    {
      "cell_type": "code",
      "source": [
        "#sort and show the pivot with gradient\n",
        "sort_style_total_sales(sales_by_state_pivot, 'Sales by State:')\n"
      ],
      "metadata": {
        "execution": {
          "iopub.status.busy": "2023-04-26T05:20:24.656711Z",
          "iopub.execute_input": "2023-04-26T05:20:24.657131Z",
          "iopub.status.idle": "2023-04-26T05:20:24.670497Z",
          "shell.execute_reply.started": "2023-04-26T05:20:24.657093Z",
          "shell.execute_reply": "2023-04-26T05:20:24.669208Z"
        },
        "trusted": true,
        "id": "1f4GqXT4f6fu"
      },
      "outputs": [],
      "execution_count": null
    },
    {
      "cell_type": "code",
      "source": [
        "#find 3 largest and smallest in state sales\n",
        "large_small_total_sales(sales_by_state_pivot, 'Largest State Sales:', 'Smallest State Sales:')\n"
      ],
      "metadata": {
        "execution": {
          "iopub.status.busy": "2023-04-26T05:20:24.672593Z",
          "iopub.execute_input": "2023-04-26T05:20:24.673633Z",
          "iopub.status.idle": "2023-04-26T05:20:24.695897Z",
          "shell.execute_reply.started": "2023-04-26T05:20:24.673565Z",
          "shell.execute_reply": "2023-04-26T05:20:24.694577Z"
        },
        "trusted": true,
        "id": "SxY92ZrNf6fu"
      },
      "outputs": [],
      "execution_count": null
    },
    {
      "cell_type": "markdown",
      "source": [
        "### Sales by City"
      ],
      "metadata": {
        "papermill": {
          "duration": 0.022264,
          "end_time": "2023-04-10T08:24:44.272974",
          "exception": false,
          "start_time": "2023-04-10T08:24:44.25071",
          "status": "completed"
        },
        "tags": [],
        "id": "zovcrkYNf6fv"
      }
    },
    {
      "cell_type": "markdown",
      "source": [
        "> There is a problem when referring y='city' in following cell for a same city name Portland, Maine and Portland, Oregon. Which in return overwrite the y-axis.\n",
        "The solution is to rename the city name for 'Portland' by referring 'state' then return with new defined names."
      ],
      "metadata": {
        "papermill": {
          "duration": 0.022116,
          "end_time": "2023-04-10T08:24:44.317392",
          "exception": false,
          "start_time": "2023-04-10T08:24:44.295276",
          "status": "completed"
        },
        "tags": [],
        "id": "Ob9k2-MHf6fv"
      }
    },
    {
      "cell_type": "code",
      "source": [
        "#find and pivot sales by city\n",
        "sales_by_city_pivot = pd.pivot_table(clean_sales_df, values='total_sales', index=['state', 'city'], aggfunc='sum')\n",
        "sales_by_city_pivot = sales_by_city_pivot.sort_values(by='total_sales', ascending=False).reset_index()\n",
        "\n",
        "#modify city named 'Portland' before generating visual (to avoid overwrite)\n",
        "sales_by_city_pivot.loc[(sales_by_city_pivot['state'] == 'ME') & (sales_by_city_pivot['city'] == 'Portland'), 'city'] = 'Portland (Maine)'\n",
        "sales_by_city_pivot.loc[(sales_by_city_pivot['state'] == 'OR') & (sales_by_city_pivot['city'] == 'Portland'), 'city'] = 'Portland (Oregon)'\n"
      ],
      "metadata": {
        "papermill": {
          "duration": 0.771501,
          "end_time": "2023-04-10T08:24:45.111222",
          "exception": false,
          "start_time": "2023-04-10T08:24:44.339721",
          "status": "completed"
        },
        "tags": [],
        "execution": {
          "iopub.status.busy": "2023-04-26T05:20:24.697495Z",
          "iopub.execute_input": "2023-04-26T05:20:24.697871Z",
          "iopub.status.idle": "2023-04-26T05:20:24.762125Z",
          "shell.execute_reply.started": "2023-04-26T05:20:24.697831Z",
          "shell.execute_reply": "2023-04-26T05:20:24.761064Z"
        },
        "trusted": true,
        "id": "Eh7ETPtrf6fv"
      },
      "outputs": [],
      "execution_count": null
    },
    {
      "cell_type": "code",
      "source": [
        "#plot sales by city\n",
        "with plt.style.context('fivethirtyeight'):\n",
        "    #format figure size\n",
        "    plt.figure(figsize=(16, 4))\n",
        "\n",
        "    #format figure\n",
        "    ax = sns.barplot(x='total_sales', y='city', hue='state', data=sales_by_city_pivot, dodge=False, palette=state_color_dict)\n",
        "    ax.set(title='Sales by City', xlabel='Sales', ylabel='City')\n",
        "    ax.ticklabel_format(style='plain', axis='x')\n",
        "    ax.legend(title='State', bbox_to_anchor=(1.05, 0.5), loc='center left', borderaxespad=0.)\n",
        "\n",
        "    #add data annotation\n",
        "    for y, x in enumerate(sales_by_city_pivot['total_sales']):\n",
        "        label = f'${x:,.2f}'\n",
        "        ax.annotate(label, (x, y), textcoords='offset points', xytext=(0, 0), ha='left', va='center')\n",
        "    plt.show()\n"
      ],
      "metadata": {
        "execution": {
          "iopub.status.busy": "2023-04-26T05:20:24.763551Z",
          "iopub.execute_input": "2023-04-26T05:20:24.7644Z",
          "iopub.status.idle": "2023-04-26T05:20:25.575609Z",
          "shell.execute_reply.started": "2023-04-26T05:20:24.764359Z",
          "shell.execute_reply": "2023-04-26T05:20:25.574126Z"
        },
        "trusted": true,
        "id": "vYqAAHatf6fw"
      },
      "outputs": [],
      "execution_count": null
    },
    {
      "cell_type": "code",
      "source": [
        "#add color gradient for sales by city and set index as state and city\n",
        "sort_style_total_sales(sales_by_city_pivot.set_index(['state', 'city']), 'Sales by City:')\n"
      ],
      "metadata": {
        "execution": {
          "iopub.status.busy": "2023-04-26T05:20:25.577458Z",
          "iopub.execute_input": "2023-04-26T05:20:25.578483Z",
          "iopub.status.idle": "2023-04-26T05:20:25.596893Z",
          "shell.execute_reply.started": "2023-04-26T05:20:25.578437Z",
          "shell.execute_reply": "2023-04-26T05:20:25.595419Z"
        },
        "trusted": true,
        "id": "f1IEWNlYf6fw"
      },
      "outputs": [],
      "execution_count": null
    },
    {
      "cell_type": "code",
      "source": [
        "#call the function to display result and set index as state and city\n",
        "large_small_total_sales(sales_by_city_pivot.set_index(['state', 'city']), 'Largest City Sales:', 'Smallest City Sales:')\n"
      ],
      "metadata": {
        "papermill": {
          "duration": 0.121273,
          "end_time": "2023-04-10T08:24:45.256093",
          "exception": false,
          "start_time": "2023-04-10T08:24:45.13482",
          "status": "completed"
        },
        "tags": [],
        "execution": {
          "iopub.status.busy": "2023-04-26T05:20:25.604587Z",
          "iopub.execute_input": "2023-04-26T05:20:25.605008Z",
          "iopub.status.idle": "2023-04-26T05:20:25.630901Z",
          "shell.execute_reply.started": "2023-04-26T05:20:25.604967Z",
          "shell.execute_reply": "2023-04-26T05:20:25.62973Z"
        },
        "trusted": true,
        "id": "0ymI97Zif6fx"
      },
      "outputs": [],
      "execution_count": null
    },
    {
      "cell_type": "markdown",
      "source": [
        "## Order Trend"
      ],
      "metadata": {
        "papermill": {
          "duration": 0.023593,
          "end_time": "2023-04-10T08:24:45.408454",
          "exception": false,
          "start_time": "2023-04-10T08:24:45.384861",
          "status": "completed"
        },
        "tags": [],
        "id": "82s5byuSf6fx"
      }
    },
    {
      "cell_type": "markdown",
      "source": [
        "Task 4:\n",
        "\n",
        "Q: What time should we display adverstisement to maximize likelihood of customer's buying product?\n",
        "\n",
        "A: Find Monthly/Daily/Hourly Order Trend\n",
        "\n",
        "This section will find the data related to orders by simply find count/unique number of order_id by month/day/hour.\n",
        "The data that will be referred here is clean_sales_2019_df(which also apply for the rest of the analysis).\n",
        "Despite order id cannot be duplicate in the dataset there is multiple rows with the same order id.\n",
        "The reason why it's not dropped is because each may contains different product.\n",
        "\n",
        "*not sure how to approach/may also need to change [Data Cleaning](#DATA-CLEANING) section\n",
        "\n",
        "But using 'count' it will return the duplicated order id as well.\n",
        "If wanted to count the order id as unique number then call 'nunique' which will be used in following sections."
      ],
      "metadata": {
        "papermill": {
          "duration": 0.023785,
          "end_time": "2023-04-10T08:24:45.456202",
          "exception": false,
          "start_time": "2023-04-10T08:24:45.432417",
          "status": "completed"
        },
        "tags": [],
        "id": "V_l38wl5f6fx"
      }
    },
    {
      "cell_type": "markdown",
      "source": [
        "> The following plot function is to plot monthly order, daily order, and hourly order."
      ],
      "metadata": {
        "id": "8zqlg6G1f6fy"
      }
    },
    {
      "cell_type": "code",
      "source": [
        "#define function for order trends visual\n",
        "def plot_trend_total_orders(pivot, plotting, fig_title, avg_series=None, text_pos=None):\n",
        "    with plt.style.context('bmh'):\n",
        "        #format figure\n",
        "        plt.figure(figsize=(16, 4))\n",
        "        ax = getattr(sns, plotting)(x=pivot.index, y='total_orders', data=pivot)\n",
        "        ax.ticklabel_format(style='plain', axis='y')\n",
        "        ax.set(title=fig_title, xlabel='Date/Time', ylabel='Order')\n",
        "        ax.tick_params(axis='both', labelsize=10)\n",
        "\n",
        "        #if statement to add axh line for avg series\n",
        "        if avg_series is not None:\n",
        "            ax.axhline(y=avg_series, color='red', linestyle=':', linewidth=1)\n",
        "            ax.text(pivot.index[text_pos], avg_series+5, f'Avg: {avg_series:,.2f}', color='blue', fontsize=8, ha='center', va='bottom')\n",
        "\n",
        "        #add annotation\n",
        "        for x, y in enumerate(pivot['total_orders']):\n",
        "            label = f'{y:,}'\n",
        "            ax.annotate(label, (x, y), textcoords='offset points', xytext=(0, 4), ha='center', fontsize=10)\n",
        "        plt.show()\n"
      ],
      "metadata": {
        "execution": {
          "iopub.status.busy": "2023-04-26T05:20:25.632653Z",
          "iopub.execute_input": "2023-04-26T05:20:25.633111Z",
          "iopub.status.idle": "2023-04-26T05:20:25.644533Z",
          "shell.execute_reply.started": "2023-04-26T05:20:25.633067Z",
          "shell.execute_reply": "2023-04-26T05:20:25.64294Z"
        },
        "trusted": true,
        "id": "h3BLrGJlf6fy"
      },
      "outputs": [],
      "execution_count": null
    },
    {
      "cell_type": "markdown",
      "source": [
        "> The following sort_style_total_orders is different from previous sort_style_total_sales since it refer to column name 'total_orders' and have different string format for the values."
      ],
      "metadata": {
        "id": "phnhY-qqf6fy"
      }
    },
    {
      "cell_type": "code",
      "source": [
        "#define function for pivot sort by value and color gradient\n",
        "def sort_style_total_orders(pivot, text):\n",
        "    #sort pivot by value in total sales\n",
        "    pivot = pivot.sort_values(by='total_orders', ascending=False)\n",
        "\n",
        "    #format as the styled pivot\n",
        "    styled_pivot = pivot.style.background_gradient(cmap='RdYlGn', subset=['total_orders']).format({'total_orders': '{:,}'})\n",
        "\n",
        "    #pass table to html\n",
        "    html_pivot = styled_pivot.to_html()\n",
        "\n",
        "    #display tabel\n",
        "    display_html(f'CONCLUSION:\\n'\n",
        "                 f'<table><tr><th>{text}</th></tr><tr><td>{html_pivot}</td></tr></table>', raw=True)\n"
      ],
      "metadata": {
        "execution": {
          "iopub.status.busy": "2023-04-26T05:20:25.646183Z",
          "iopub.execute_input": "2023-04-26T05:20:25.646559Z",
          "iopub.status.idle": "2023-04-26T05:20:25.664335Z",
          "shell.execute_reply.started": "2023-04-26T05:20:25.646524Z",
          "shell.execute_reply": "2023-04-26T05:20:25.662922Z"
        },
        "trusted": true,
        "id": "DUxTyYYGf6fy"
      },
      "outputs": [],
      "execution_count": null
    },
    {
      "cell_type": "markdown",
      "source": [
        "> Add function to find largest and smallest values in 'total_orders' and added size parameter to specify how many value returned."
      ],
      "metadata": {
        "id": "kLWQTsK4f6fz"
      }
    },
    {
      "cell_type": "code",
      "source": [
        "#create function to find largest and smallest value in total orders and convert to html\n",
        "def large_small_total_orders(pivot, label_1, label_2, size):\n",
        "    #find 3 largest and smallest total orders\n",
        "    largest = pivot.nlargest(size, 'total_orders')\n",
        "    smallest = pivot.nsmallest(size, 'total_orders')\n",
        "\n",
        "    #format table with gradient\n",
        "    largest_styled = largest.style.background_gradient(cmap='RdYlGn', subset=['total_orders']).format({'total_sales': '{:,}'})\n",
        "    smallest_styled = smallest.style.background_gradient(cmap='RdYlGn', subset=['total_orders']).format({'total_sales': '{:,}'})\n",
        "\n",
        "    #pass table to html\n",
        "    largest_html = largest_styled.to_html()\n",
        "    smallest_html = smallest_styled.to_html()\n",
        "\n",
        "    #display tabel\n",
        "    display_html(f'CONCLUSION:\\n'\n",
        "                 f'<table><tr><th>{label_1}</th><th>{label_2}</th></tr><tr><td>{largest_html}</td><td>{smallest_html}</td></tr></table>', raw=True)\n"
      ],
      "metadata": {
        "execution": {
          "iopub.status.busy": "2023-04-26T05:20:25.666691Z",
          "iopub.execute_input": "2023-04-26T05:20:25.667201Z",
          "iopub.status.idle": "2023-04-26T05:20:25.677796Z",
          "shell.execute_reply.started": "2023-04-26T05:20:25.667157Z",
          "shell.execute_reply": "2023-04-26T05:20:25.676378Z"
        },
        "trusted": true,
        "id": "EAfNdv-cf6fz"
      },
      "outputs": [],
      "execution_count": null
    },
    {
      "cell_type": "markdown",
      "source": [
        "### Monthly Order Trend"
      ],
      "metadata": {
        "papermill": {
          "duration": 0.023463,
          "end_time": "2023-04-10T08:24:45.503515",
          "exception": false,
          "start_time": "2023-04-10T08:24:45.480052",
          "status": "completed"
        },
        "tags": [],
        "id": "TcLXBs1kf6f0"
      }
    },
    {
      "cell_type": "code",
      "source": [
        "#find and pivot monthly order\n",
        "monthly_order_pivot = pd.pivot_table(clean_sales_2019_df, index=clean_sales_2019_df['date'].dt.to_period('M'), values='order_id', aggfunc='nunique')\n",
        "\n",
        "#rename column and format date index if needed\n",
        "monthly_order_pivot = monthly_order_pivot.rename(columns={'order_id': 'total_orders'})\n",
        "monthly_order_pivot.index = monthly_order_pivot.index.strftime('%b %Y')\n",
        "monthly_order_pivot.index.name = 'month'\n",
        "\n",
        "#find average in monthly order\n",
        "average_monthly_order = monthly_order_pivot['total_orders'].mean()\n",
        "\n",
        "#plot monthly order trend and pass the average series and their position(refer to x as index)\n",
        "plot_trend_total_orders(monthly_order_pivot, 'lineplot', 'Monthly Order Trend', average_monthly_order, -12)\n"
      ],
      "metadata": {
        "execution": {
          "iopub.status.busy": "2023-04-26T05:20:25.679136Z",
          "iopub.execute_input": "2023-04-26T05:20:25.679469Z",
          "iopub.status.idle": "2023-04-26T05:20:26.07385Z",
          "shell.execute_reply.started": "2023-04-26T05:20:25.679437Z",
          "shell.execute_reply": "2023-04-26T05:20:26.072476Z"
        },
        "trusted": true,
        "id": "wW-dx2bUf6f0"
      },
      "outputs": [],
      "execution_count": null
    },
    {
      "cell_type": "code",
      "source": [
        "#sort and add color gradient for monthly order pivot\n",
        "sort_style_total_orders(monthly_order_pivot, 'Monthly Orders:')\n"
      ],
      "metadata": {
        "execution": {
          "iopub.status.busy": "2023-04-26T05:20:26.075545Z",
          "iopub.execute_input": "2023-04-26T05:20:26.076716Z",
          "iopub.status.idle": "2023-04-26T05:20:26.092362Z",
          "shell.execute_reply.started": "2023-04-26T05:20:26.07666Z",
          "shell.execute_reply": "2023-04-26T05:20:26.090698Z"
        },
        "trusted": true,
        "id": "9UYQeILQf6f0"
      },
      "outputs": [],
      "execution_count": null
    },
    {
      "cell_type": "code",
      "source": [
        "#find largest and lowest value in monthly order and specify the size returned\n",
        "large_small_total_orders(monthly_order_pivot, 'Largest Month Orders:', 'Smallest Month Orders:', 3)\n"
      ],
      "metadata": {
        "papermill": {
          "duration": 0.045313,
          "end_time": "2023-04-10T08:24:46.118617",
          "exception": false,
          "start_time": "2023-04-10T08:24:46.073304",
          "status": "completed"
        },
        "tags": [],
        "execution": {
          "iopub.status.busy": "2023-04-26T05:20:26.093617Z",
          "iopub.execute_input": "2023-04-26T05:20:26.09444Z",
          "iopub.status.idle": "2023-04-26T05:20:26.11839Z",
          "shell.execute_reply.started": "2023-04-26T05:20:26.094399Z",
          "shell.execute_reply": "2023-04-26T05:20:26.116797Z"
        },
        "trusted": true,
        "id": "NaHkkd-sf6f1"
      },
      "outputs": [],
      "execution_count": null
    },
    {
      "cell_type": "markdown",
      "source": [
        "### Daily Order Trend"
      ],
      "metadata": {
        "papermill": {
          "duration": 0.025051,
          "end_time": "2023-04-10T08:24:46.169197",
          "exception": false,
          "start_time": "2023-04-10T08:24:46.144146",
          "status": "completed"
        },
        "tags": [],
        "id": "zROgWulvf6f1"
      }
    },
    {
      "cell_type": "code",
      "source": [
        "#find and pivot daily order\n",
        "daily_order_pivot = pd.pivot_table(clean_sales_2019_df, index=clean_sales_2019_df['date'].dt.dayofweek, values='order_id', aggfunc='nunique')\n",
        "\n",
        "#rename column and format date index\n",
        "daily_order_pivot = daily_order_pivot.rename(columns={'order_id': 'total_orders'})\n",
        "daily_order_pivot.index = ['Monday', 'Tuesday', 'Wednesday', 'Thursday', 'Friday', 'Saturday', 'Sunday']\n",
        "daily_order_pivot.index.name = 'day'\n",
        "\n",
        "#find average in daily order\n",
        "average_daily_order = daily_order_pivot['total_orders'].mean()\n",
        "\n",
        "#plot daily order trend\n",
        "plot_trend_total_orders(daily_order_pivot, 'lineplot', 'Monthly Order Trend', average_daily_order, -6)\n"
      ],
      "metadata": {
        "execution": {
          "iopub.status.busy": "2023-04-26T05:20:26.120112Z",
          "iopub.execute_input": "2023-04-26T05:20:26.121518Z",
          "iopub.status.idle": "2023-04-26T05:20:26.470125Z",
          "shell.execute_reply.started": "2023-04-26T05:20:26.121457Z",
          "shell.execute_reply": "2023-04-26T05:20:26.468447Z"
        },
        "trusted": true,
        "id": "IOB1LXIaf6f1"
      },
      "outputs": [],
      "execution_count": null
    },
    {
      "cell_type": "code",
      "source": [
        "#sort and add color gradient to daily order pivot\n",
        "sort_style_total_orders(daily_order_pivot, 'Daily Orders:')\n"
      ],
      "metadata": {
        "execution": {
          "iopub.status.busy": "2023-04-26T05:20:26.471867Z",
          "iopub.execute_input": "2023-04-26T05:20:26.472289Z",
          "iopub.status.idle": "2023-04-26T05:20:26.486162Z",
          "shell.execute_reply.started": "2023-04-26T05:20:26.472249Z",
          "shell.execute_reply": "2023-04-26T05:20:26.484635Z"
        },
        "trusted": true,
        "id": "qw5aa1QMf6f2"
      },
      "outputs": [],
      "execution_count": null
    },
    {
      "cell_type": "code",
      "source": [
        "#find largest and smallest orders in daily order\n",
        "large_small_total_orders(daily_order_pivot, 'Largest Day Orders:', 'Smallest Day Orders:', 3)\n"
      ],
      "metadata": {
        "papermill": {
          "duration": 0.043877,
          "end_time": "2023-04-10T08:24:46.817549",
          "exception": false,
          "start_time": "2023-04-10T08:24:46.773672",
          "status": "completed"
        },
        "tags": [],
        "execution": {
          "iopub.status.busy": "2023-04-26T05:20:26.487865Z",
          "iopub.execute_input": "2023-04-26T05:20:26.488405Z",
          "iopub.status.idle": "2023-04-26T05:20:26.514502Z",
          "shell.execute_reply.started": "2023-04-26T05:20:26.488353Z",
          "shell.execute_reply": "2023-04-26T05:20:26.513299Z"
        },
        "trusted": true,
        "id": "MIqGcZ5jf6f2"
      },
      "outputs": [],
      "execution_count": null
    },
    {
      "cell_type": "markdown",
      "source": [
        "### Hourly Order Trend"
      ],
      "metadata": {
        "papermill": {
          "duration": 0.027118,
          "end_time": "2023-04-10T08:24:46.871864",
          "exception": false,
          "start_time": "2023-04-10T08:24:46.844746",
          "status": "completed"
        },
        "tags": [],
        "id": "8rsqauemf6f2"
      }
    },
    {
      "cell_type": "code",
      "source": [
        "#find and pivot hourly order\n",
        "hourly_order_pivot = pd.pivot_table(clean_sales_2019_df, index=clean_sales_2019_df['date'].dt.hour, values='order_id', aggfunc='nunique')\n",
        "\n",
        "#rename column and format date index\n",
        "hourly_order_pivot = hourly_order_pivot.rename(columns={'order_id': 'total_orders'})\n",
        "hourly_order_pivot.index = pd.to_datetime(hourly_order_pivot.index, format='%H').strftime('%H:%M')\n",
        "hourly_order_pivot.index.name = 'hour'\n",
        "\n",
        "#find average in hourly order\n",
        "average_hourly_order = hourly_order_pivot['total_orders'].mean()\n",
        "\n",
        "#plot hourly order trend\n",
        "plot_trend_total_orders(hourly_order_pivot, 'lineplot', 'Hourly Order Trend', average_hourly_order, -24)\n"
      ],
      "metadata": {
        "execution": {
          "iopub.status.busy": "2023-04-26T05:20:26.515987Z",
          "iopub.execute_input": "2023-04-26T05:20:26.516492Z",
          "iopub.status.idle": "2023-04-26T05:20:27.064827Z",
          "shell.execute_reply.started": "2023-04-26T05:20:26.516445Z",
          "shell.execute_reply": "2023-04-26T05:20:27.06339Z"
        },
        "trusted": true,
        "id": "4NpW_zxGf6f3"
      },
      "outputs": [],
      "execution_count": null
    },
    {
      "cell_type": "code",
      "source": [
        "#sort and add color gradient to hourly order pivot\n",
        "sort_style_total_orders(hourly_order_pivot, 'Hourly Orders:')\n"
      ],
      "metadata": {
        "execution": {
          "iopub.status.busy": "2023-04-26T05:20:27.069094Z",
          "iopub.execute_input": "2023-04-26T05:20:27.069522Z",
          "iopub.status.idle": "2023-04-26T05:20:27.083497Z",
          "shell.execute_reply.started": "2023-04-26T05:20:27.069484Z",
          "shell.execute_reply": "2023-04-26T05:20:27.082141Z"
        },
        "trusted": true,
        "id": "zweaSidff6f3"
      },
      "outputs": [],
      "execution_count": null
    },
    {
      "cell_type": "code",
      "source": [
        "#find largest and smallest orders in daily order\n",
        "large_small_total_orders(hourly_order_pivot, 'Largest Hour Order:', 'Smallest Hour Order:', 6)\n"
      ],
      "metadata": {
        "papermill": {
          "duration": 0.046676,
          "end_time": "2023-04-10T08:24:47.579525",
          "exception": false,
          "start_time": "2023-04-10T08:24:47.532849",
          "status": "completed"
        },
        "tags": [],
        "execution": {
          "iopub.status.busy": "2023-04-26T05:20:27.085413Z",
          "iopub.execute_input": "2023-04-26T05:20:27.085812Z",
          "iopub.status.idle": "2023-04-26T05:20:27.110989Z",
          "shell.execute_reply.started": "2023-04-26T05:20:27.085776Z",
          "shell.execute_reply": "2023-04-26T05:20:27.109654Z"
        },
        "trusted": true,
        "id": "PEFf1EoEf6f3"
      },
      "outputs": [],
      "execution_count": null
    },
    {
      "cell_type": "markdown",
      "source": [
        "## Product Performance"
      ],
      "metadata": {
        "papermill": {
          "duration": 0.028354,
          "end_time": "2023-04-10T08:24:47.637394",
          "exception": false,
          "start_time": "2023-04-10T08:24:47.60904",
          "status": "completed"
        },
        "tags": [],
        "id": "FRuIx_jIf6f4"
      }
    },
    {
      "cell_type": "markdown",
      "source": [
        "Task 5:\n",
        "\n",
        "Q: What product sold the most? Why do you think it sold the most?\n",
        "\n",
        "A: Find Products Popularity and Product Price List Comparision\n",
        "\n",
        "Find data related to Product Popularity by calculate sum of quantity by each product.\n",
        "This return the total product being purchased.\n",
        "It also find price list by product which is used to create filled lines for comparision.\n",
        "However, since revenue(total_sales-total_cost) is not available the following will only use total quantity sold hence \"Popularity\"."
      ],
      "metadata": {
        "papermill": {
          "duration": 0.027844,
          "end_time": "2023-04-10T08:24:47.693617",
          "exception": false,
          "start_time": "2023-04-10T08:24:47.665773",
          "status": "completed"
        },
        "tags": [],
        "id": "lw7VD7Y5f6f4"
      }
    },
    {
      "cell_type": "markdown",
      "source": [
        "### Product Popularity"
      ],
      "metadata": {
        "papermill": {
          "duration": 0.027539,
          "end_time": "2023-04-10T08:24:47.749192",
          "exception": false,
          "start_time": "2023-04-10T08:24:47.721653",
          "status": "completed"
        },
        "tags": [],
        "id": "qqvT7r32f6f4"
      }
    },
    {
      "cell_type": "code",
      "source": [
        "#find and pivot product popularty\n",
        "product_popularity_pivot = pd.pivot_table(clean_sales_2019_df, index='product', values='quantity', aggfunc='sum')\n",
        "product_popularity_pivot = product_popularity_pivot.sort_values(by='quantity', ascending=False)\n",
        "\n",
        "#find and pivot product price\n",
        "product_price_pivot = pd.pivot_table(clean_sales_2019_df, index='product', values='price', aggfunc='first')\n",
        "\n",
        "#merge both pivot as one\n",
        "merged_popularity_price_pivot = pd.merge(product_popularity_pivot, product_price_pivot, on='product')\n"
      ],
      "metadata": {
        "execution": {
          "iopub.status.busy": "2023-04-26T05:20:27.113084Z",
          "iopub.execute_input": "2023-04-26T05:20:27.114657Z",
          "iopub.status.idle": "2023-04-26T05:20:27.192954Z",
          "shell.execute_reply.started": "2023-04-26T05:20:27.114573Z",
          "shell.execute_reply": "2023-04-26T05:20:27.191607Z"
        },
        "trusted": true,
        "id": "oGArXjDrf6f4"
      },
      "outputs": [],
      "execution_count": null
    },
    {
      "cell_type": "markdown",
      "source": [
        "> The following plot will have x as 'product' with y as quantity(ax1) and price(ax2) to visualize and compare how product perform relative to its price."
      ],
      "metadata": {
        "id": "ASsN2Sqvf6f5"
      }
    },
    {
      "cell_type": "code",
      "source": [
        "#generate product colors and store it in dictionary for reuse\n",
        "product_color = sns.color_palette('husl', len(merged_popularity_price_pivot.index.unique()))\n",
        "product_color_dict = dict(zip(merged_popularity_price_pivot.index.unique(), product_color))\n",
        "\n",
        "#generate visual for product popularity(merged_popularity_price_pivot)\n",
        "with plt.style.context('classic'):\n",
        "    #format figure and ax1\n",
        "    fig, ax1 = plt.subplots(figsize=(20,6))\n",
        "    ax1 = sns.barplot(x=merged_popularity_price_pivot.index, y='quantity', data=merged_popularity_price_pivot, palette=product_color_dict)\n",
        "    ax1.ticklabel_format(style='plain', axis='y')\n",
        "    ax1.set(title='Product Popularity', xlabel='Product', ylabel='Quantity')\n",
        "    ax1.set_xticklabels(labels=merged_popularity_price_pivot.index, rotation=80)\n",
        "\n",
        "    #add data annotation for ax1\n",
        "    for x, y in enumerate(merged_popularity_price_pivot['quantity']):\n",
        "        label = f'{y:,}'\n",
        "        ax1.annotate(label, (x,y), textcoords='offset points', xytext=(0,4), ha='center', fontsize=10)\n",
        "\n",
        "    #plot product prices as filled line plot as ax2\n",
        "    ax2 = ax1.twinx()\n",
        "    ax2.plot(merged_popularity_price_pivot.index, merged_popularity_price_pivot['price'], color='red')\n",
        "    ax2.set_ylabel('Price')\n",
        "    ax2.fill_between(merged_popularity_price_pivot.index, merged_popularity_price_pivot['price'], alpha=0.2)\n",
        "    plt.show()\n"
      ],
      "metadata": {
        "execution": {
          "iopub.status.busy": "2023-04-26T05:20:27.194754Z",
          "iopub.execute_input": "2023-04-26T05:20:27.196031Z",
          "iopub.status.idle": "2023-04-26T05:20:27.830444Z",
          "shell.execute_reply.started": "2023-04-26T05:20:27.195981Z",
          "shell.execute_reply": "2023-04-26T05:20:27.829131Z"
        },
        "trusted": true,
        "id": "OHFzWgydf6f5"
      },
      "outputs": [],
      "execution_count": null
    },
    {
      "cell_type": "code",
      "source": [
        "#add color gradient and show pivot table\n",
        "styled_pivot = merged_popularity_price_pivot.style.background_gradient(cmap='RdYlGn', subset=['quantity', 'price']).format({'quantity': '{:,}', 'price': '{:,.2f}'})\n",
        "\n",
        "#pass table to html\n",
        "html_pivot = styled_pivot.to_html()\n",
        "\n",
        "#display tabel\n",
        "display_html(f'CONCLUSION:\\n'\n",
        "             f'<table><tr><th>Product Popularity Price:</th></tr><tr><td>{html_pivot}</td></tr></table>', raw=True)\n"
      ],
      "metadata": {
        "execution": {
          "iopub.status.busy": "2023-04-26T05:20:27.832676Z",
          "iopub.execute_input": "2023-04-26T05:20:27.833549Z",
          "iopub.status.idle": "2023-04-26T05:20:27.854618Z",
          "shell.execute_reply.started": "2023-04-26T05:20:27.833497Z",
          "shell.execute_reply": "2023-04-26T05:20:27.853076Z"
        },
        "trusted": true,
        "id": "VJBKB5Saf6f5"
      },
      "outputs": [],
      "execution_count": null
    },
    {
      "cell_type": "markdown",
      "source": [
        "### Price List Comparision"
      ],
      "metadata": {
        "papermill": {
          "duration": 0.030878,
          "end_time": "2023-04-10T08:24:48.961697",
          "exception": false,
          "start_time": "2023-04-10T08:24:48.930819",
          "status": "completed"
        },
        "tags": [],
        "id": "qNNR1N62f6f6"
      }
    },
    {
      "cell_type": "code",
      "source": [
        "#find price for each item list\n",
        "product_list_pivot = pd.pivot_table(clean_sales_2019_df, index='product', values='price', aggfunc='first')\n",
        "product_list_pivot = product_list_pivot.sort_values(by='price', ascending=False)\n",
        "\n",
        "#find product price average\n",
        "average_product_price = product_list_pivot['price'].mean()\n"
      ],
      "metadata": {
        "papermill": {
          "duration": 0.524306,
          "end_time": "2023-04-10T08:24:49.517149",
          "exception": false,
          "start_time": "2023-04-10T08:24:48.992843",
          "status": "completed"
        },
        "tags": [],
        "execution": {
          "iopub.status.busy": "2023-04-26T05:20:27.856188Z",
          "iopub.execute_input": "2023-04-26T05:20:27.856594Z",
          "iopub.status.idle": "2023-04-26T05:20:27.902659Z",
          "shell.execute_reply.started": "2023-04-26T05:20:27.856556Z",
          "shell.execute_reply": "2023-04-26T05:20:27.901193Z"
        },
        "trusted": true,
        "id": "03k744OAf6f6"
      },
      "outputs": [],
      "execution_count": null
    },
    {
      "cell_type": "code",
      "source": [
        "#generate product list visual\n",
        "with plt.style.context('classic'):\n",
        "    #format figure size\n",
        "    plt.figure(figsize=(20, 6))\n",
        "\n",
        "    #format figure\n",
        "    ax = sns.barplot(x='price', y=product_list_pivot.index, data=product_list_pivot, palette=product_color_dict)\n",
        "    ax.set(title='Product Price List', xlabel='Price', ylabel='Product')\n",
        "\n",
        "    #add axv line\n",
        "    ax.axvline(x=average_product_price, color='red', linestyle='--', linewidth=1)\n",
        "    ax.text(average_product_price+5, len(product_list_pivot)/2,\n",
        "            f'Avg: ${average_product_price:.2f}',\n",
        "            color='red', ha='left', va='center')\n",
        "\n",
        "    #add data annotation\n",
        "    for y, x in enumerate(product_list_pivot['price']):\n",
        "        label = f'${x:,.2f}'\n",
        "        ax.annotate(label, (x, y), textcoords='offset points', xytext=(0, 0), ha='left', va='center', fontsize=10)\n",
        "    plt.show()\n",
        ""
      ],
      "metadata": {
        "execution": {
          "iopub.status.busy": "2023-04-26T05:20:27.904453Z",
          "iopub.execute_input": "2023-04-26T05:20:27.905199Z",
          "iopub.status.idle": "2023-04-26T05:20:28.376953Z",
          "shell.execute_reply.started": "2023-04-26T05:20:27.905156Z",
          "shell.execute_reply": "2023-04-26T05:20:28.375541Z"
        },
        "trusted": true,
        "id": "cGvz9v29f6f6"
      },
      "outputs": [],
      "execution_count": null
    },
    {
      "cell_type": "code",
      "source": [
        "#find largest and smallest price in price list\n",
        "largest = product_list_pivot.nlargest(4, 'price')\n",
        "smallest = product_list_pivot.nsmallest(4, 'price')\n",
        "\n",
        "#format table with gradient\n",
        "largest_styled = largest.style.background_gradient(cmap='RdYlGn', subset=['price']).format({'price': '{:,}'})\n",
        "smallest_styled = smallest.style.background_gradient(cmap='RdYlGn', subset=['price']).format({'price': '{:,}'})\n",
        "\n",
        "#pass table to html\n",
        "largest_html = largest_styled.to_html()\n",
        "smallest_html = smallest_styled.to_html()\n",
        "\n",
        "#display tabel\n",
        "display_html(f'CONCLUSION:\\n'\n",
        "             f'<table><tr><th>Most Expensive Products:</th><th>Most Cheap Products:</th></tr><tr><td>{largest_html}</td><td>{smallest_html}</td></tr></table>', raw=True)\n"
      ],
      "metadata": {
        "papermill": {
          "duration": 0.049026,
          "end_time": "2023-04-10T08:24:49.598253",
          "exception": false,
          "start_time": "2023-04-10T08:24:49.549227",
          "status": "completed"
        },
        "tags": [],
        "execution": {
          "iopub.status.busy": "2023-04-26T05:20:28.378878Z",
          "iopub.execute_input": "2023-04-26T05:20:28.379585Z",
          "iopub.status.idle": "2023-04-26T05:20:28.407797Z",
          "shell.execute_reply.started": "2023-04-26T05:20:28.379523Z",
          "shell.execute_reply": "2023-04-26T05:20:28.406228Z"
        },
        "trusted": true,
        "id": "7Y-_-crSf6f6"
      },
      "outputs": [],
      "execution_count": null
    },
    {
      "cell_type": "markdown",
      "source": [
        "### Product Sold by Order"
      ],
      "metadata": {
        "papermill": {
          "duration": 0.032157,
          "end_time": "2023-04-10T08:24:49.66265",
          "exception": false,
          "start_time": "2023-04-10T08:24:49.630493",
          "status": "completed"
        },
        "tags": [],
        "id": "LEtc_M3gf6f6"
      }
    },
    {
      "cell_type": "markdown",
      "source": [
        "> Find average item each order and show how likely customers to buy more than 1 product in single order."
      ],
      "metadata": {
        "papermill": {
          "duration": 0.031599,
          "end_time": "2023-04-10T08:24:49.726136",
          "exception": false,
          "start_time": "2023-04-10T08:24:49.694537",
          "status": "completed"
        },
        "tags": [],
        "id": "ukNFWx3vf6f7"
      }
    },
    {
      "cell_type": "code",
      "source": [
        "#find average quantity per order id\n",
        "average_item_per_order = clean_sales_2019_df.groupby('order_id')['quantity'].mean().mean()\n"
      ],
      "metadata": {
        "papermill": {
          "duration": 0.245515,
          "end_time": "2023-04-10T08:24:50.003477",
          "exception": false,
          "start_time": "2023-04-10T08:24:49.757962",
          "status": "completed"
        },
        "tags": [],
        "execution": {
          "iopub.status.busy": "2023-04-26T05:20:28.409971Z",
          "iopub.execute_input": "2023-04-26T05:20:28.410773Z",
          "iopub.status.idle": "2023-04-26T05:20:28.574652Z",
          "shell.execute_reply.started": "2023-04-26T05:20:28.41073Z",
          "shell.execute_reply": "2023-04-26T05:20:28.57359Z"
        },
        "trusted": true,
        "id": "WHKw-g_wf6f7"
      },
      "outputs": [],
      "execution_count": null
    },
    {
      "cell_type": "code",
      "source": [
        "#show result as visual\n",
        "with plt.style.context('classic'):\n",
        "    plt.subplots(figsize=(8, 1))\n",
        "    plt.axis('off')\n",
        "    plt.text(0.5, 0.5,\n",
        "             f'{average_item_per_order:,.2f}',\n",
        "             fontsize=40, ha='center', va='center')\n",
        "    plt.title('Average Item Each Order', fontsize=20)\n",
        "    plt.show()\n"
      ],
      "metadata": {
        "execution": {
          "iopub.status.busy": "2023-04-26T05:20:28.57594Z",
          "iopub.execute_input": "2023-04-26T05:20:28.57654Z",
          "iopub.status.idle": "2023-04-26T05:20:28.62918Z",
          "shell.execute_reply.started": "2023-04-26T05:20:28.5765Z",
          "shell.execute_reply": "2023-04-26T05:20:28.62765Z"
        },
        "trusted": true,
        "id": "apOT77Jaf6f7"
      },
      "outputs": [],
      "execution_count": null
    },
    {
      "cell_type": "markdown",
      "source": [
        "## Probability"
      ],
      "metadata": {
        "papermill": {
          "duration": 0.035364,
          "end_time": "2023-04-10T08:24:50.123099",
          "exception": false,
          "start_time": "2023-04-10T08:24:50.087735",
          "status": "completed"
        },
        "tags": [],
        "id": "dYwTQzq6f6f7"
      }
    },
    {
      "cell_type": "markdown",
      "source": [
        "Task 6:\n",
        "\n",
        "Q: How much probability for next people will order certain products?\n",
        "\n",
        "A: Find Product Sold % of Total Product Sold\n",
        "\n",
        "The following section is to find % product sold compare to the total sold of all products.\n",
        "the result will give % of product which may define the likelihood of the product will be purchased next.\n",
        "This part is also the only section which used Squarify to plot the result as Treemap."
      ],
      "metadata": {
        "papermill": {
          "duration": 0.032496,
          "end_time": "2023-04-10T08:24:50.188738",
          "exception": false,
          "start_time": "2023-04-10T08:24:50.156242",
          "status": "completed"
        },
        "tags": [],
        "id": "c8ZZqb5Rf6f8"
      }
    },
    {
      "cell_type": "markdown",
      "source": [
        "### Product Orders of Total Sales"
      ],
      "metadata": {
        "papermill": {
          "duration": 0.032644,
          "end_time": "2023-04-10T08:24:50.25427",
          "exception": false,
          "start_time": "2023-04-10T08:24:50.221626",
          "status": "completed"
        },
        "tags": [],
        "id": "mbcnJkiaf6f8"
      }
    },
    {
      "cell_type": "code",
      "source": [
        "#find total product sold\n",
        "total_product_sold = product_popularity_pivot['quantity'].sum()\n",
        "\n",
        "#find sizes and labels value in product popularity\n",
        "sizes = product_popularity_pivot['quantity']\n",
        "labels = product_popularity_pivot.index\n",
        "\n",
        "#calculate percentage for each product\n",
        "percentages = [f'{100*sizes[i]/sizes.sum():.2f}%\\n{labels[i]}' for i in range(len(sizes))]\n"
      ],
      "metadata": {
        "papermill": {
          "duration": 0.326609,
          "end_time": "2023-04-10T08:24:50.613939",
          "exception": false,
          "start_time": "2023-04-10T08:24:50.28733",
          "status": "completed"
        },
        "tags": [],
        "execution": {
          "iopub.status.busy": "2023-04-26T05:20:28.630788Z",
          "iopub.execute_input": "2023-04-26T05:20:28.631372Z",
          "iopub.status.idle": "2023-04-26T05:20:28.640546Z",
          "shell.execute_reply.started": "2023-04-26T05:20:28.631322Z",
          "shell.execute_reply": "2023-04-26T05:20:28.639144Z"
        },
        "trusted": true,
        "id": "AhUBUQ77f6f8"
      },
      "outputs": [],
      "execution_count": null
    },
    {
      "cell_type": "code",
      "source": [
        "#generate treemap visual for product sold percentage of total\n",
        "with plt.style.context('classic'):\n",
        "    plt.figure(figsize=(20, 8))\n",
        "    squarify.plot(sizes=sizes, label=percentages, alpha=0.7, color=product_color) #get color from previous plot\n",
        "    plt.axis('off')\n",
        "    plt.title('Product % of Total', fontsize=20)\n",
        "    plt.show()\n"
      ],
      "metadata": {
        "execution": {
          "iopub.status.busy": "2023-04-26T05:20:28.642934Z",
          "iopub.execute_input": "2023-04-26T05:20:28.643705Z",
          "iopub.status.idle": "2023-04-26T05:20:28.97639Z",
          "shell.execute_reply.started": "2023-04-26T05:20:28.643627Z",
          "shell.execute_reply": "2023-04-26T05:20:28.975399Z"
        },
        "trusted": true,
        "id": "U2dqM-FKf6f8"
      },
      "outputs": [],
      "execution_count": null
    },
    {
      "cell_type": "markdown",
      "source": [
        "> The following will store the data as dataframe contain 'product' and 'probability'."
      ],
      "metadata": {
        "id": "H1af10pif6f8"
      }
    },
    {
      "cell_type": "code",
      "source": [
        "#create empty dataframe to store probability\n",
        "prob_data = []\n",
        "\n",
        "#find percentages for product and add to data list\n",
        "for p in percentages:\n",
        "    prob, label = p.split('\\n')\n",
        "    prob = prob.replace('%', '')  #remove percent sign\n",
        "    prob_data.append({'product': label, 'probability': float(prob) / 100})\n",
        "\n",
        "#create a DataFrame from the data\n",
        "probability_df = pd.DataFrame(prob_data)\n"
      ],
      "metadata": {
        "papermill": {
          "duration": 0.044934,
          "end_time": "2023-04-10T08:24:50.695339",
          "exception": false,
          "start_time": "2023-04-10T08:24:50.650405",
          "status": "completed"
        },
        "tags": [],
        "execution": {
          "iopub.status.busy": "2023-04-26T05:20:28.977702Z",
          "iopub.execute_input": "2023-04-26T05:20:28.97826Z",
          "iopub.status.idle": "2023-04-26T05:20:28.984544Z",
          "shell.execute_reply.started": "2023-04-26T05:20:28.978224Z",
          "shell.execute_reply": "2023-04-26T05:20:28.983641Z"
        },
        "trusted": true,
        "id": "xsTJlAysf6f9"
      },
      "outputs": [],
      "execution_count": null
    },
    {
      "cell_type": "markdown",
      "source": [
        "> If need to show the probability as pivot table then can apply the following method."
      ],
      "metadata": {
        "id": "BU2ysVPYf6f9"
      }
    },
    {
      "cell_type": "code",
      "source": [
        "#apply background gradient to probability column\n",
        "probability_pivot = pd.pivot_table(probability_df, index='product', values='probability')\n",
        "probability_pivot = probability_pivot.sort_values('probability', ascending=False)\n",
        "syled_probability_pivot = probability_pivot.style.background_gradient(cmap='RdYlGn', subset='probability').format({'probability': '{:.2%}'})\n",
        "\n",
        "#pass table to html\n",
        "html_probability_pivot = syled_probability_pivot.to_html()\n",
        "\n",
        "#display tabel\n",
        "display_html(f'CONCLUSION:\\n'\n",
        "             f'<table><tr><th>List of Probability:</th></tr><tr><td>{html_probability_pivot}</td></tr></table>', raw=True)\n"
      ],
      "metadata": {
        "execution": {
          "iopub.status.busy": "2023-04-26T05:20:28.985585Z",
          "iopub.execute_input": "2023-04-26T05:20:28.986661Z",
          "iopub.status.idle": "2023-04-26T05:20:29.018904Z",
          "shell.execute_reply.started": "2023-04-26T05:20:28.986622Z",
          "shell.execute_reply": "2023-04-26T05:20:29.01737Z"
        },
        "trusted": true,
        "id": "Cb8NY9zIf6f9"
      },
      "outputs": [],
      "execution_count": null
    },
    {
      "cell_type": "markdown",
      "source": [
        "## Product Associate Rules"
      ],
      "metadata": {
        "papermill": {
          "duration": 0.034002,
          "end_time": "2023-04-10T08:24:50.763227",
          "exception": false,
          "start_time": "2023-04-10T08:24:50.729225",
          "status": "completed"
        },
        "tags": [],
        "id": "XjUjENNuf6f-"
      }
    },
    {
      "cell_type": "markdown",
      "source": [
        "Task 7:\n",
        "\n",
        "Q: What products are most often sold together?\n",
        "\n",
        "A: Find Product Associate Rules using mlxtend library\n",
        "\n",
        "First need to find the product sold by each order id and store them into series(product_by_order).\n",
        "Then transform the data into one-hot encoded matrix by applying TransactionEncoder().fit_transform().\n",
        "The result will be stored as dataframe(encoded_df).\n",
        "Encoded data then used to generate frequent item sets using apriori algorithm the minimum support are defined as following.\n",
        "Lastly sort the order by value in 'confidence'."
      ],
      "metadata": {
        "papermill": {
          "duration": 0.033334,
          "end_time": "2023-04-10T08:24:50.830101",
          "exception": false,
          "start_time": "2023-04-10T08:24:50.796767",
          "status": "completed"
        },
        "tags": [],
        "id": "ofWx7OPwf6f-"
      }
    },
    {
      "cell_type": "code",
      "source": [
        "#group product by order id\n",
        "product_by_order = clean_sales_2019_df.groupby('order_id')['product'].apply(list)\n",
        "\n",
        "#convert data to one-hot encoded matrix\n",
        "te = TransactionEncoder()\n",
        "onehot = te.fit_transform(product_by_order)\n",
        "encoded_df = pd.DataFrame(onehot, columns=te.columns_)\n",
        "\n",
        "#identify frequent itemsets and set parameters accordingly\n",
        "frequent_itemsets_df = apriori(encoded_df, min_support=0.00000001, max_len=2, use_colnames=True)\n",
        "\n",
        "#generate association rules and set metric to confidence(measure likelihood)\n",
        "rules_df = association_rules(frequent_itemsets_df, metric='confidence', min_threshold=0.05)\n",
        "rules_df = rules_df.sort_values('confidence', ascending=False)\n"
      ],
      "metadata": {
        "papermill": {
          "duration": 4.595624,
          "end_time": "2023-04-10T08:24:55.45927",
          "exception": false,
          "start_time": "2023-04-10T08:24:50.863646",
          "status": "completed"
        },
        "tags": [],
        "execution": {
          "iopub.status.busy": "2023-04-26T05:20:29.020538Z",
          "iopub.execute_input": "2023-04-26T05:20:29.021773Z",
          "iopub.status.idle": "2023-04-26T05:20:32.844167Z",
          "shell.execute_reply.started": "2023-04-26T05:20:29.021724Z",
          "shell.execute_reply": "2023-04-26T05:20:32.842803Z"
        },
        "trusted": true,
        "id": "EUSq_dgkf6f-"
      },
      "outputs": [],
      "execution_count": null
    },
    {
      "cell_type": "markdown",
      "source": [
        "> The following will convert antecedents and consequents from frozentset to string and show the rules as styled dataframe if needed."
      ],
      "metadata": {
        "id": "GhLuQK5Vf6f-"
      }
    },
    {
      "cell_type": "code",
      "source": [
        "#apply lambda to rules_df\n",
        "rules_df = rules_df.applymap(lambda x: ', '.join([str(item) for item in x]) if isinstance(x, frozenset) else x)\n",
        "\n",
        "#show dataframe as table with gradient color in column with value\n",
        "rules_df.style.background_gradient(cmap='RdYlGn', subset=['antecedent support', 'consequent support', 'support',\n",
        "                                                          'confidence', 'lift', 'leverage', 'conviction'])\n"
      ],
      "metadata": {
        "execution": {
          "iopub.status.busy": "2023-04-26T05:20:32.846822Z",
          "iopub.execute_input": "2023-04-26T05:20:32.847634Z",
          "iopub.status.idle": "2023-04-26T05:20:32.880423Z",
          "shell.execute_reply.started": "2023-04-26T05:20:32.847578Z",
          "shell.execute_reply": "2023-04-26T05:20:32.878676Z"
        },
        "trusted": true,
        "id": "jtJFdvbkf6f-"
      },
      "outputs": [],
      "execution_count": null
    },
    {
      "cell_type": "markdown",
      "source": [
        "> Although the rules can be presented as tables.\n",
        "In this case the rules is generated as string following more descriptive explanation.\n",
        "There may be other method to visualize the rules waiting to be explored.\n",
        "But for now the following will do."
      ],
      "metadata": {
        "papermill": {
          "duration": 0.033861,
          "end_time": "2023-04-10T08:24:55.528264",
          "exception": false,
          "start_time": "2023-04-10T08:24:55.494403",
          "status": "completed"
        },
        "tags": [],
        "id": "B4SE7uzaf6f_"
      }
    },
    {
      "cell_type": "code",
      "source": [
        "#create scatter visual\n",
        "with plt.style.context('dark_background'):\n",
        "    #format figure\n",
        "    plt.figure(figsize=(14, 6))\n",
        "    plt.scatter(x=rules_df['support'], y=rules_df['confidence'], c=rules_df['lift'], cmap='YlOrRd')\n",
        "    plt.xlabel('Support')\n",
        "    plt.ylabel('Confidence')\n",
        "    plt.title('Association Rules', fontsize=20)\n",
        "\n",
        "    #add colorbar\n",
        "    plt.colorbar().set_label('Lift', labelpad=10)\n",
        "\n",
        "    #add annotation\n",
        "    for i, row in rules_df.iterrows():\n",
        "        #find the value for antecedents, consequents, leverage, and conviction\n",
        "        antecedents = row['antecedents']\n",
        "        consequents = row['consequents']\n",
        "        leverage = row['leverage']\n",
        "        conviction = row['conviction']\n",
        "\n",
        "        #set xy position\n",
        "        x_pos = row['support']\n",
        "        y_pos = row['confidence']\n",
        "\n",
        "        #annotate formatted value\n",
        "        plt.annotate(f'{antecedents}, {consequents}\\nLEV: {leverage:.3f}, CONV: {conviction:.3f}',\n",
        "                     xy=(x_pos, y_pos), xytext=(0, -20), textcoords='offset points', fontsize=8, ha='center')\n",
        "    plt.show()\n"
      ],
      "metadata": {
        "execution": {
          "iopub.status.busy": "2023-04-26T05:20:32.882378Z",
          "iopub.execute_input": "2023-04-26T05:20:32.883971Z",
          "iopub.status.idle": "2023-04-26T05:20:33.331416Z",
          "shell.execute_reply.started": "2023-04-26T05:20:32.883905Z",
          "shell.execute_reply": "2023-04-26T05:20:33.3293Z"
        },
        "trusted": true,
        "id": "fHnSVyzsf6f_"
      },
      "outputs": [],
      "execution_count": null
    },
    {
      "cell_type": "code",
      "source": [
        "#create a pivot table to format the data for heatmap\n",
        "rules_pivot = pd.pivot_table(rules_df, index='antecedents', columns='consequents', values='confidence')\n"
      ],
      "metadata": {
        "execution": {
          "iopub.status.busy": "2023-04-26T05:20:33.332993Z",
          "iopub.execute_input": "2023-04-26T05:20:33.333467Z",
          "iopub.status.idle": "2023-04-26T05:20:33.357718Z",
          "shell.execute_reply.started": "2023-04-26T05:20:33.333429Z",
          "shell.execute_reply": "2023-04-26T05:20:33.356629Z"
        },
        "trusted": true,
        "id": "YBroWPhIf6f_"
      },
      "outputs": [],
      "execution_count": null
    },
    {
      "cell_type": "code",
      "source": [
        "#create heatmap visual for rules pivot table\n",
        "with plt.style.context('dark_background'):\n",
        "    plt.figure(figsize=(14, 6))\n",
        "    sns.heatmap(data=rules_pivot, annot=True, cmap='coolwarm')\n",
        "    plt.title('Confidence Map', fontsize=20)\n",
        "    plt.xlabel('Consequent')\n",
        "    plt.ylabel('Antecedents')\n",
        "    plt.xticks(rotation=60)\n",
        "    plt.yticks(rotation=0)\n",
        "    plt.show()\n"
      ],
      "metadata": {
        "execution": {
          "iopub.status.busy": "2023-04-26T05:20:33.359855Z",
          "iopub.execute_input": "2023-04-26T05:20:33.360697Z",
          "iopub.status.idle": "2023-04-26T05:20:33.732226Z",
          "shell.execute_reply.started": "2023-04-26T05:20:33.360651Z",
          "shell.execute_reply": "2023-04-26T05:20:33.730886Z"
        },
        "trusted": true,
        "id": "l8tBYamzf6f_"
      },
      "outputs": [],
      "execution_count": null
    },
    {
      "cell_type": "markdown",
      "source": [
        "> The following will print the top 3 rules as strings for conclusion."
      ],
      "metadata": {
        "id": "ZCR4HJfOf6f_"
      }
    },
    {
      "cell_type": "code",
      "source": [
        "#create list to store items\n",
        "summaries = []\n",
        "\n",
        "#iterrate throught available items in rules (for now it is set at 3 largest confidence value)\n",
        "for i, row in rules_df.nlargest(3, 'confidence').iterrows():\n",
        "    antecedents = row['antecedents']\n",
        "    consequents = row['consequents']\n",
        "    support = row['support']\n",
        "    confidence = row['confidence']\n",
        "    lift = row['lift']\n",
        "    leverage = row['leverage']\n",
        "    conviction = row['conviction']\n",
        "\n",
        "    #define ANSI escape codes for modifying the text's appearance\n",
        "    BLUE = '\\033[94m'\n",
        "    GREEN = '\\033[92m'\n",
        "    RED = '\\033[91m'\n",
        "    END = '\\033[0m'\n",
        "\n",
        "    #create summary in string\n",
        "    summary = (\n",
        "    f'Rule {i+1}:\\n'\n",
        "    f'Customers who bought {BLUE}{antecedents}{END} are more likely to buy {RED}{consequents}{END}.\\n'\n",
        "    f'This combination of products was purchased in {GREEN}{support*100:.3f}%{END} of all transactions.\\n'\n",
        "    f'If customers buy {BLUE}{antecedents}{END}, the chance of them also buying {RED}{consequents}{END} is {GREEN}{confidence*100:.2f}%{END}.\\n'\n",
        "    f'{RED}{consequents}{END} appears {GREEN}{lift:.2f}x{END} more likely when {BLUE}{antecedents}{END} appears.\\n'\n",
        "    f'The relation between {BLUE}{antecedents}{END} and {RED}{consequents}{END} is {GREEN}{leverage:.5f}{END}.\\n'\n",
        "    f'The rule significancy {BLUE}{antecedents}{END} and {RED}{consequents}{END} is {GREEN}{conviction:.2f}{END}.'\n",
        "    )\n",
        "\n",
        "    #append the summary\n",
        "    summaries.append(summary)\n",
        "\n",
        "#join all summaries into a single string\n",
        "summary_string = '\\n\\n'.join(summaries)\n",
        "\n",
        "#print summary\n",
        "print(f'CONCLUSION\\n\\n{summary_string}')\n"
      ],
      "metadata": {
        "papermill": {
          "duration": 0.049045,
          "end_time": "2023-04-10T08:24:55.611235",
          "exception": false,
          "start_time": "2023-04-10T08:24:55.56219",
          "status": "completed"
        },
        "tags": [],
        "execution": {
          "iopub.status.busy": "2023-04-26T05:20:33.733886Z",
          "iopub.execute_input": "2023-04-26T05:20:33.735114Z",
          "iopub.status.idle": "2023-04-26T05:20:33.750931Z",
          "shell.execute_reply.started": "2023-04-26T05:20:33.735035Z",
          "shell.execute_reply": "2023-04-26T05:20:33.749467Z"
        },
        "trusted": true,
        "id": "VeRRuZLqf6gA"
      },
      "outputs": [],
      "execution_count": null
    },
    {
      "cell_type": "markdown",
      "source": [
        "# TO SUMMARIZE"
      ],
      "metadata": {
        "papermill": {
          "duration": 0.033749,
          "end_time": "2023-04-10T08:24:55.679046",
          "exception": false,
          "start_time": "2023-04-10T08:24:55.645297",
          "status": "completed"
        },
        "tags": [],
        "id": "bFsiL10Af6gA"
      }
    },
    {
      "cell_type": "markdown",
      "source": [
        "It appears that the company generated a total of USD 34,465,537.94 in sales, with the majority of sales occurring in 2019, totaling USD 34,456,867.65. In contrast, 2020 only accounted for USD 8,670.29 in sales, which may be due to incomplete or missing data. The highest selling months were December, October, and April 2019, with sales of USD 4,608,295.70, USD 3,734,777.86 and USD 3,389,217.98 respectively, while the lowest sales occurred in January, September 2019, and January 2020, which accounted for only USD 3,915,878.85 of the total sales. The company generated the highest sales in California (CA), with San Francisco and Los Angeles accounting for USD 8,254,743.55 and USD 5,448,304.28 respectively. The lowest sales occurred in Portland, Maine, with only USD 449,321.38 in sales.\n",
        "\n",
        "To maximize the company's advertising efforts, it is recommended to advertise in December, October, and April, as the company generated the most orders during these months (24,004, 19,436, and 17,528, respectively). Tuesdays were found to be the most profitable day for advertising, generating 26,063 orders, while Fridays had the lowest number of orders. The best times for advertising were between 11:00-13:00 and 18:00-20:00, when the company typically had the highest sales counts.\n",
        "\n",
        "In terms of product performance, some products performed better or worse than their price indicated. The finding result is as following:\n",
        "1. The Bose SoundSport Headphones had a lower price, but sold less than the Apple Airpods Headphones.\n",
        "2. The 34in Ultrawide Monitor, 27in 4K Gaming Monitor, Flatscreen TV, 20in Monitor, Vareebadd Phone, LG Washing Machine, and LG Dryer all sold fewer units than the iPhone despite having lower prices.\n",
        "3. In contrast, the ThinkPad Laptop and Macbook Pro Laptop performed better than expected when compared to the LG Dryer, LG Washing Machine, Vareebadd Phone, and 20in Monitor despite having higher price.\n",
        "4. The 20in Monitor was the worst-performing product, selling only 4,123 units, compared to the 27in FHD Monitor, which sold 7,538 units despite having lower price.\n",
        "\n",
        "The probability of customers ordering specific products compared to all other products was calculated as following:\n",
        "1. USB-C Charging Cable: 11.46%\n",
        "2. Wired Headphones: 9.83%\n",
        "3. iPhone: 3.28%\n",
        "4. Google Phone: 2.65%\n",
        "\n",
        "Finally, based on rules the chance of customers who bought Google Phone are more likely to buy USB-C Charging Cable is 18.06%. While the chance of customers who bought Vareebadd Phone are more likely to buy USB-C Charging Cable is 17.83%. Lastly, the chance of customers who bought iPhone are more likely to buy Lightning Charging Cable is 14.77%. While this rules accounted for 0.5%, 0.2%, and 0.5% of total transactions respectively. Additionally, for the rest of the rules is not significant since it return with negative lift value and/or have low confidence."
      ],
      "metadata": {
        "papermill": {
          "duration": 0.03378,
          "end_time": "2023-04-10T08:24:55.747468",
          "exception": false,
          "start_time": "2023-04-10T08:24:55.713688",
          "status": "completed"
        },
        "tags": [],
        "id": "09HVVdPpf6gA"
      }
    },
    {
      "cell_type": "markdown",
      "source": [
        "# REFERENCES"
      ],
      "metadata": {
        "papermill": {
          "duration": 0.034643,
          "end_time": "2023-04-10T08:24:55.816302",
          "exception": false,
          "start_time": "2023-04-10T08:24:55.781659",
          "status": "completed"
        },
        "tags": [],
        "id": "3lPd1lZff6gA"
      }
    },
    {
      "cell_type": "markdown",
      "source": [
        "Version 11:  Thanks to:\n",
        "\n",
        "[Knightbearr](https://www.kaggle.com/knightbearr) for providing [Sales Product Data](https://www.kaggle.com/datasets/knightbearr/sales-product-data)\n",
        "\n",
        "References at:\n",
        "\n",
        "[Matplotlib](https://matplotlib.org/stable/api/matplotlib_configuration_api.html),\n",
        "[Pandas](https://pandas.pydata.org/pandas-docs/stable/reference/frame.html),\n",
        "[Squarify](https://github.com/laserson/squarify),\n",
        "[Seaborn](https://seaborn.pydata.org/),\n",
        "[Mlxtend](https://github.com/rasbt/mlxtend)\n",
        "\n",
        "Inspired by:\n",
        "\n",
        "Knightbearr - [Analysis Sales Data (Knightbearr)](https://www.kaggle.com/code/knightbearr/analysis-sales-data-knightbearr)\n",
        "\n",
        "Peilin_C - [Sales Data Analysis with Python](https://www.kaggle.com/code/peilinc/sales-data-analysis-with-python)\n"
      ],
      "metadata": {
        "papermill": {
          "duration": 0.034363,
          "end_time": "2023-04-10T08:24:55.885774",
          "exception": false,
          "start_time": "2023-04-10T08:24:55.851411",
          "status": "completed"
        },
        "tags": [],
        "id": "befrTzkyf6gB"
      }
    },
    {
      "cell_type": "markdown",
      "source": [
        "# VERSION 12"
      ],
      "metadata": {
        "id": "Nwjh3Lqmf6gB"
      }
    },
    {
      "cell_type": "markdown",
      "source": [
        "1. Add function for plotting and some formatting that are reptitive.\n",
        "2. Generalize some methods being used.\n",
        "3. Change the majority of data selection method from dataframe to pivot table.\n",
        "5. Added more markdown.\n",
        "\n",
        "*Probably the last revision(Hopefully)"
      ],
      "metadata": {
        "id": "pGeDIlwOf6gB"
      }
    }
  ]
}